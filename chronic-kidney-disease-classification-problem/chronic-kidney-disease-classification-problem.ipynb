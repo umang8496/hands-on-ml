{
 "cells": [
  {
   "cell_type": "markdown",
   "metadata": {},
   "source": [
    "## Chronic Kidney Disease "
   ]
  },
  {
   "cell_type": "markdown",
   "metadata": {},
   "source": [
    "This dataset can be used to predict chronic kidney disease and it has been collected at a hospital for a period of nearly 2 months.\n",
    "\n",
    "(a) Identify the factors causing the chronic kidney disease.  \n",
    "(b) Build a model that can help to determine if a patient is suffering from chronic kidney disease or not.\n",
    "\n"
   ]
  },
  {
   "cell_type": "markdown",
   "metadata": {},
   "source": [
    "### Data Understanding"
   ]
  },
  {
   "cell_type": "code",
   "execution_count": 88,
   "metadata": {},
   "outputs": [],
   "source": [
    "import pandas as pd\n",
    "import numpy as np"
   ]
  },
  {
   "cell_type": "code",
   "execution_count": 89,
   "metadata": {},
   "outputs": [],
   "source": [
    "pd.set_option(\"display.precision\", 4)\n",
    "np.random.seed(2021)"
   ]
  },
  {
   "cell_type": "code",
   "execution_count": 90,
   "metadata": {},
   "outputs": [],
   "source": [
    "kidney_dataset = pd.read_csv(\"KidneyChronic.csv\")"
   ]
  },
  {
   "cell_type": "code",
   "execution_count": 6,
   "metadata": {},
   "outputs": [],
   "source": [
    "df = kidney_dataset"
   ]
  },
  {
   "cell_type": "code",
   "execution_count": 91,
   "metadata": {},
   "outputs": [
    {
     "data": {
      "text/html": [
       "<div>\n",
       "<style scoped>\n",
       "    .dataframe tbody tr th:only-of-type {\n",
       "        vertical-align: middle;\n",
       "    }\n",
       "\n",
       "    .dataframe tbody tr th {\n",
       "        vertical-align: top;\n",
       "    }\n",
       "\n",
       "    .dataframe thead th {\n",
       "        text-align: right;\n",
       "    }\n",
       "</style>\n",
       "<table border=\"1\" class=\"dataframe\">\n",
       "  <thead>\n",
       "    <tr style=\"text-align: right;\">\n",
       "      <th></th>\n",
       "      <th>age</th>\n",
       "      <th>bp</th>\n",
       "      <th>sg</th>\n",
       "      <th>al</th>\n",
       "      <th>su</th>\n",
       "      <th>rbc</th>\n",
       "      <th>pc</th>\n",
       "      <th>pcc</th>\n",
       "      <th>ba</th>\n",
       "      <th>bgr</th>\n",
       "      <th>...</th>\n",
       "      <th>pcv</th>\n",
       "      <th>wbcc</th>\n",
       "      <th>rbcc</th>\n",
       "      <th>htn</th>\n",
       "      <th>dm</th>\n",
       "      <th>cad</th>\n",
       "      <th>appet</th>\n",
       "      <th>pe</th>\n",
       "      <th>ane</th>\n",
       "      <th>class</th>\n",
       "    </tr>\n",
       "  </thead>\n",
       "  <tbody>\n",
       "    <tr>\n",
       "      <th>0</th>\n",
       "      <td>48</td>\n",
       "      <td>80</td>\n",
       "      <td>1.02</td>\n",
       "      <td>1</td>\n",
       "      <td>0</td>\n",
       "      <td>?</td>\n",
       "      <td>normal</td>\n",
       "      <td>notpresent</td>\n",
       "      <td>notpresent</td>\n",
       "      <td>121</td>\n",
       "      <td>...</td>\n",
       "      <td>44</td>\n",
       "      <td>7800</td>\n",
       "      <td>5.2</td>\n",
       "      <td>yes</td>\n",
       "      <td>yes</td>\n",
       "      <td>no</td>\n",
       "      <td>good</td>\n",
       "      <td>no</td>\n",
       "      <td>no</td>\n",
       "      <td>ckd</td>\n",
       "    </tr>\n",
       "    <tr>\n",
       "      <th>1</th>\n",
       "      <td>7</td>\n",
       "      <td>50</td>\n",
       "      <td>1.02</td>\n",
       "      <td>4</td>\n",
       "      <td>0</td>\n",
       "      <td>?</td>\n",
       "      <td>normal</td>\n",
       "      <td>notpresent</td>\n",
       "      <td>notpresent</td>\n",
       "      <td>?</td>\n",
       "      <td>...</td>\n",
       "      <td>38</td>\n",
       "      <td>6000</td>\n",
       "      <td>?</td>\n",
       "      <td>no</td>\n",
       "      <td>no</td>\n",
       "      <td>no</td>\n",
       "      <td>good</td>\n",
       "      <td>no</td>\n",
       "      <td>no</td>\n",
       "      <td>ckd</td>\n",
       "    </tr>\n",
       "    <tr>\n",
       "      <th>2</th>\n",
       "      <td>62</td>\n",
       "      <td>80</td>\n",
       "      <td>1.01</td>\n",
       "      <td>2</td>\n",
       "      <td>3</td>\n",
       "      <td>normal</td>\n",
       "      <td>normal</td>\n",
       "      <td>notpresent</td>\n",
       "      <td>notpresent</td>\n",
       "      <td>423</td>\n",
       "      <td>...</td>\n",
       "      <td>31</td>\n",
       "      <td>7500</td>\n",
       "      <td>?</td>\n",
       "      <td>no</td>\n",
       "      <td>yes</td>\n",
       "      <td>no</td>\n",
       "      <td>poor</td>\n",
       "      <td>no</td>\n",
       "      <td>yes</td>\n",
       "      <td>ckd</td>\n",
       "    </tr>\n",
       "    <tr>\n",
       "      <th>3</th>\n",
       "      <td>48</td>\n",
       "      <td>70</td>\n",
       "      <td>1.005</td>\n",
       "      <td>4</td>\n",
       "      <td>0</td>\n",
       "      <td>normal</td>\n",
       "      <td>abnormal</td>\n",
       "      <td>present</td>\n",
       "      <td>notpresent</td>\n",
       "      <td>117</td>\n",
       "      <td>...</td>\n",
       "      <td>32</td>\n",
       "      <td>6700</td>\n",
       "      <td>3.9</td>\n",
       "      <td>yes</td>\n",
       "      <td>no</td>\n",
       "      <td>no</td>\n",
       "      <td>poor</td>\n",
       "      <td>yes</td>\n",
       "      <td>yes</td>\n",
       "      <td>ckd</td>\n",
       "    </tr>\n",
       "    <tr>\n",
       "      <th>4</th>\n",
       "      <td>51</td>\n",
       "      <td>80</td>\n",
       "      <td>1.01</td>\n",
       "      <td>2</td>\n",
       "      <td>0</td>\n",
       "      <td>normal</td>\n",
       "      <td>normal</td>\n",
       "      <td>notpresent</td>\n",
       "      <td>notpresent</td>\n",
       "      <td>106</td>\n",
       "      <td>...</td>\n",
       "      <td>35</td>\n",
       "      <td>7300</td>\n",
       "      <td>4.6</td>\n",
       "      <td>no</td>\n",
       "      <td>no</td>\n",
       "      <td>no</td>\n",
       "      <td>good</td>\n",
       "      <td>no</td>\n",
       "      <td>no</td>\n",
       "      <td>ckd</td>\n",
       "    </tr>\n",
       "  </tbody>\n",
       "</table>\n",
       "<p>5 rows × 25 columns</p>\n",
       "</div>"
      ],
      "text/plain": [
       "  age  bp     sg al su     rbc        pc         pcc          ba  bgr  ...  \\\n",
       "0  48  80   1.02  1  0       ?    normal  notpresent  notpresent  121  ...   \n",
       "1   7  50   1.02  4  0       ?    normal  notpresent  notpresent    ?  ...   \n",
       "2  62  80   1.01  2  3  normal    normal  notpresent  notpresent  423  ...   \n",
       "3  48  70  1.005  4  0  normal  abnormal     present  notpresent  117  ...   \n",
       "4  51  80   1.01  2  0  normal    normal  notpresent  notpresent  106  ...   \n",
       "\n",
       "  pcv  wbcc rbcc  htn   dm cad appet   pe  ane class  \n",
       "0  44  7800  5.2  yes  yes  no  good   no   no   ckd  \n",
       "1  38  6000    ?   no   no  no  good   no   no   ckd  \n",
       "2  31  7500    ?   no  yes  no  poor   no  yes   ckd  \n",
       "3  32  6700  3.9  yes   no  no  poor  yes  yes   ckd  \n",
       "4  35  7300  4.6   no   no  no  good   no   no   ckd  \n",
       "\n",
       "[5 rows x 25 columns]"
      ]
     },
     "execution_count": 91,
     "metadata": {},
     "output_type": "execute_result"
    }
   ],
   "source": [
    "df.head()"
   ]
  },
  {
   "cell_type": "code",
   "execution_count": 93,
   "metadata": {},
   "outputs": [
    {
     "name": "stdout",
     "output_type": "stream",
     "text": [
      "df.shape: (400, 25)\n",
      "df.columns: Index(['age', 'bp', 'sg', 'al', 'su', 'rbc', 'pc', 'pcc', 'ba', 'bgr', 'bu',\n",
      "       'sc', 'sod', 'pot', 'hemo', 'pcv', 'wbcc', 'rbcc', 'htn', 'dm', 'cad',\n",
      "       'appet', 'pe', 'ane', 'class'],\n",
      "      dtype='object')\n"
     ]
    }
   ],
   "source": [
    "print(\"df.shape:\", df.shape)\n",
    "print(\"df.columns:\", df.columns)"
   ]
  },
  {
   "cell_type": "code",
   "execution_count": 11,
   "metadata": {},
   "outputs": [
    {
     "name": "stdout",
     "output_type": "stream",
     "text": [
      "<class 'pandas.core.frame.DataFrame'>\n",
      "RangeIndex: 400 entries, 0 to 399\n",
      "Data columns (total 25 columns):\n",
      " #   Column  Non-Null Count  Dtype \n",
      "---  ------  --------------  ----- \n",
      " 0   age     400 non-null    object\n",
      " 1   bp      400 non-null    object\n",
      " 2   sg      400 non-null    object\n",
      " 3   al      400 non-null    object\n",
      " 4   su      400 non-null    object\n",
      " 5   rbc     400 non-null    object\n",
      " 6   pc      400 non-null    object\n",
      " 7   pcc     400 non-null    object\n",
      " 8   ba      400 non-null    object\n",
      " 9   bgr     400 non-null    object\n",
      " 10  bu      400 non-null    object\n",
      " 11  sc      400 non-null    object\n",
      " 12  sod     400 non-null    object\n",
      " 13  pot     400 non-null    object\n",
      " 14  hemo    400 non-null    object\n",
      " 15  pcv     400 non-null    object\n",
      " 16  wbcc    400 non-null    object\n",
      " 17  rbcc    400 non-null    object\n",
      " 18  htn     400 non-null    object\n",
      " 19  dm      400 non-null    object\n",
      " 20  cad     400 non-null    object\n",
      " 21  appet   400 non-null    object\n",
      " 22  pe      400 non-null    object\n",
      " 23  ane     400 non-null    object\n",
      " 24  class   400 non-null    object\n",
      "dtypes: object(25)\n",
      "memory usage: 78.2+ KB\n",
      "None\n"
     ]
    }
   ],
   "source": [
    "print(df.info())"
   ]
  },
  {
   "cell_type": "markdown",
   "metadata": {},
   "source": [
    "#### age attribute"
   ]
  },
  {
   "cell_type": "code",
   "execution_count": 96,
   "metadata": {},
   "outputs": [
    {
     "name": "stdout",
     "output_type": "stream",
     "text": [
      "type(age): <class 'pandas.core.series.Series'>\n",
      "age.count(): 400\n",
      "age.isna().sum(): 0\n",
      "age.notna().sum(): 400\n",
      "age_without_missing_values.dtype: object\n",
      "age_without_missing_values.dtype: int64\n",
      "age_without_missing_values.mean(): 51.48337595907928\n",
      "age_customized.dtype: float64\n",
      "age_customized.mean(): nan\n"
     ]
    }
   ],
   "source": [
    "age = df[\"age\"]\n",
    "print(\"type(age):\", type(age))\n",
    "print(\"age.count():\", age.count())\n",
    "print(\"age.isna().sum():\", age.isna().sum())\n",
    "print(\"age.notna().sum():\", age.notna().sum())\n",
    "\n",
    "age_without_missing_values = age[age != '?']\n",
    "age_with_missing_values = age[age == '?']\n",
    "\n",
    "print(\"age_without_missing_values.dtype:\", age_without_missing_values.dtype)\n",
    "age_without_missing_values = pd.to_numeric(age_without_missing_values)\n",
    "print(\"age_without_missing_values.dtype:\", age_without_missing_values.dtype)\n",
    "\n",
    "print(\"age_without_missing_values.mean():\", age_without_missing_values.mean())\n",
    "age_without_missing_values_mean = age_without_missing_values.mean()\n",
    "age_with_missing_values.replace('?', age_without_missing_values_mean)\n",
    "\n",
    "age_customized = pd.to_numeric(age_with_missing_values + age_without_missing_values)\n",
    "\n",
    "print(\"age_customized.dtype:\", age_customized.dtype)\n",
    "print(\"age_customized.mean():\", age_customized.mean())\n"
   ]
  },
  {
   "cell_type": "code",
   "execution_count": 87,
   "metadata": {},
   "outputs": [
    {
     "name": "stdout",
     "output_type": "stream",
     "text": [
      "object\n",
      "400\n",
      "80     116\n",
      "70     112\n",
      "60      71\n",
      "90      53\n",
      "100     25\n",
      "?       12\n",
      "50       5\n",
      "110      3\n",
      "120      1\n",
      "180      1\n",
      "140      1\n",
      "Name: bp, dtype: int64\n",
      "object\n",
      "mean: 76.46907216494846\n",
      "int64\n"
     ]
    }
   ],
   "source": [
    "bp=df['bp']\n",
    "print(bp.dtype)\n",
    "print(bp.count())\n",
    "print(bp.value_counts())\n",
    "\n",
    "bp_without_missing_values = bp[bp != '?']\n",
    "bp_with_missing_values = bp[bp == '?']\n",
    "print(bp_without_missing_values.dtype)\n",
    "bp_without_missing_values = pd.to_numeric(bp_without_missing_values)\n",
    "print(\"mean:\",bp_without_missing_values.mean())\n",
    "print(bp_without_missing_values.dtype)"
   ]
  },
  {
   "cell_type": "code",
   "execution_count": 76,
   "metadata": {},
   "outputs": [
    {
     "name": "stdout",
     "output_type": "stream",
     "text": [
      "object\n",
      "400\n"
     ]
    },
    {
     "data": {
      "text/plain": [
       "1.02     106\n",
       "1.01      84\n",
       "1.025     81\n",
       "1.015     75\n",
       "?         47\n",
       "1.005      7\n",
       "Name: sg, dtype: int64"
      ]
     },
     "execution_count": 76,
     "metadata": {},
     "output_type": "execute_result"
    }
   ],
   "source": [
    "sg=df['sg']\n",
    "print(sg.dtype)\n",
    "print(sg.count())\n",
    "sg.value_counts()"
   ]
  },
  {
   "cell_type": "markdown",
   "metadata": {},
   "source": [
    "### Data Preparation and EDA"
   ]
  },
  {
   "cell_type": "markdown",
   "metadata": {},
   "source": [
    "### Model Building and Evaluation"
   ]
  },
  {
   "cell_type": "markdown",
   "metadata": {},
   "source": [
    "### THE END"
   ]
  }
 ],
 "metadata": {
  "kernelspec": {
   "display_name": "Python 3",
   "language": "python",
   "name": "python3"
  },
  "language_info": {
   "codemirror_mode": {
    "name": "ipython",
    "version": 3
   },
   "file_extension": ".py",
   "mimetype": "text/x-python",
   "name": "python",
   "nbconvert_exporter": "python",
   "pygments_lexer": "ipython3",
   "version": "3.9.0"
  }
 },
 "nbformat": 4,
 "nbformat_minor": 4
}
