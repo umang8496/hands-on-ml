{
 "cells": [
  {
   "cell_type": "markdown",
   "metadata": {},
   "source": [
    "## Logisitic Regression classifier with L2 Regularization"
   ]
  },
  {
   "cell_type": "markdown",
   "metadata": {},
   "source": [
    "### Load the libraries"
   ]
  },
  {
   "cell_type": "code",
   "execution_count": 1,
   "metadata": {},
   "outputs": [],
   "source": [
    "import numpy as np\n",
    "import pandas as pd\n",
    "import matplotlib.pyplot as plt\n",
    "\n",
    "from sklearn.model_selection import train_test_split\n",
    "from sklearn.preprocessing import StandardScaler\n",
    "from sklearn.preprocessing import LabelEncoder\n",
    "from sklearn.decomposition import PCA\n",
    "from sklearn.impute import SimpleImputer\n",
    "from matplotlib import style"
   ]
  },
  {
   "cell_type": "markdown",
   "metadata": {},
   "source": [
    "### Logistic Regression Classifier"
   ]
  },
  {
   "cell_type": "code",
   "execution_count": 2,
   "metadata": {},
   "outputs": [],
   "source": [
    "class LogisticRegression(object):\n",
    "    def __init__(self, learningRate, numIterations = 10, penalty = None, C = 0.01):    \n",
    "        self.learningRate = learningRate\n",
    "        self.numIterations = numIterations\n",
    "        self.penalty = penalty\n",
    "        self.C = C\n",
    "    ## END\n",
    "\n",
    "    def train(self, X_train, y_train, tol = 10 ** -4):\n",
    "        # Value indicating the weight change between epochs in which gradient descent should terminated. Defaults to 10 ** -4\n",
    "        tolerance = tol * np.ones([1, np.shape(X_train)[1] + 1])\n",
    "        self.weights = np.zeros(np.shape(X_train)[1] + 1) \n",
    "        X_train = np.c_[np.ones([np.shape(X_train)[0], 1]), X_train]\n",
    "        self.costs = []\n",
    "\n",
    "        for i in range(self.numIterations):    \n",
    "            z = np.dot(X_train, self.weights)\n",
    "            errors = y_train - sigmoid_function(z)\n",
    "            if self.penalty is not None:                \n",
    "                delta_w = self.learningRate * (self.C * np.dot(errors, X_train) + np.sum(self.weights))  \n",
    "            else:\n",
    "                delta_w = self.learningRate * np.dot(errors, X_train)\n",
    "            \n",
    "            self.iterationsPerformed = i\n",
    "\n",
    "            if np.all(abs(delta_w) >= tolerance): \n",
    "                self.weights += delta_w                                \n",
    "                if self.penalty is not None:\n",
    "                    self.costs.append(reg_logLiklihood(X_train, self.weights, y_train, self.C))\n",
    "                else:\n",
    "                    self.costs.append(logLiklihood(z, y_train))\n",
    "            else:\n",
    "                break\n",
    "        return self\n",
    "    ## END\n",
    "    \n",
    "    def predict(self, X_test, pi = 0.5):\n",
    "        z = self.weights[0] + np.dot(X_test, self.weights[1:])        \n",
    "        probs = np.array([sigmoid_function(i) for i in z])\n",
    "        predictions = np.where(probs >= pi, 1, 0)\n",
    "        return predictions, probs\n",
    "    ## END\n",
    "    \n",
    "    def performanceEval(self, predictions, y_test):\n",
    "        TP, TN, FP, FN, P, N = 0, 0, 0, 0, 0, 0\n",
    "        \n",
    "        for idx, test_sample in enumerate(y_test):    \n",
    "            if predictions[idx] == 1 and test_sample == 1:\n",
    "                TP += 1       \n",
    "                P += 1\n",
    "            elif predictions[idx] == 0 and test_sample == 0:                \n",
    "                TN += 1\n",
    "                N += 1\n",
    "            elif predictions[idx] == 0 and test_sample == 1:\n",
    "                FN += 1\n",
    "                P += 1\n",
    "            elif predictions[idx] == 1 and test_sample == 0:\n",
    "                FP += 1\n",
    "                N += 1\n",
    "            \n",
    "        accuracy = (TP + TN) / (P + N)    \n",
    "        sensitivity = TP / P\n",
    "        specificity = TN / N\n",
    "        PPV = TP / (TP + FP)\n",
    "        NPV = TN / (TN + FN)\n",
    "        FNR = 1 - sensitivity\n",
    "        FPR = 1 - specificity\n",
    "        performance = {'Accuracy': accuracy,\n",
    "                       'Sensitivity': sensitivity,\n",
    "                       'Specificity': specificity,\n",
    "                       'Precision': PPV,\n",
    "                       'NPV': NPV,\n",
    "                       'FNR': FNR,\n",
    "                       'FPR': FPR}\n",
    "        return performance\n",
    "    ## END\n",
    "    \n",
    "    def predictionPlot(self, X_test, y_test):\n",
    "        zs = self.weights[0] + np.dot(X_test, self.weights[1:])        \n",
    "        probs = np.array([sigmoid_function(i) for i in zs])    \n",
    "        plt.figure()\n",
    "        plt.plot(np.arange(-10, 10, 0.1), sigmoid_function(np.arange(-10, 10, 0.1)))        \n",
    "        colors = ['r','b']\n",
    "        probs = np.array(probs)\n",
    "        for idx,cl in enumerate(np.unique(y_test)):\n",
    "            plt.scatter(x = zs[np.where(y_test == cl)[0]],\n",
    "                        y = probs[np.where(y_test == cl)[0]],\n",
    "                        alpha = 0.8,\n",
    "                        c = colors[idx],\n",
    "                        marker = 'o',\n",
    "                        label = cl,\n",
    "                        s = 30)\n",
    "        plt.xlabel('z')\n",
    "        plt.ylim([-0.1, 1.1])\n",
    "        plt.axhline(0.0, ls = 'dotted', color = 'k')\n",
    "        plt.axhline(1.0, ls = 'dotted', color = 'k')\n",
    "        plt.axvline(0.0, ls = 'dotted', color = 'k')\n",
    "        plt.ylabel('$\\phi (z)$')\n",
    "        plt.legend(loc = 'upper left')\n",
    "        plt.title('Logistic Regression Prediction Curve')\n",
    "        plt.show()\n",
    "    ## END\n",
    "    \n",
    "    def plotCost(self):\n",
    "        plt.figure()\n",
    "        plt.plot(np.arange(1, self.iterationsPerformed + 1), self.costs, marker = '.')\n",
    "        plt.xlabel('Iterations')\n",
    "        plt.ylabel('Log-Liklihood J(w)')\n",
    "    ## END\n",
    "    \n",
    "    def plotDecisionRegions(self, X_test, y_test, pi = 0.5, res = 0.01):\n",
    "        x = np.arange(min(X_test[:,0]) - 1, max(X_test[:,0]) + 1, 0.01)\n",
    "        y = np.arange(min(X_test[:,1]) - 1, max(X_test[:,1]) + 1, 0.01)        \n",
    "        xx, yy = np.meshgrid(x, y, indexing = 'xy')\n",
    "        \n",
    "        data_points = np.transpose([xx.ravel(), yy.ravel()])\n",
    "        preds, probs = self.predict(data_points, pi)\n",
    "            \n",
    "        colors = ['r','b']        \n",
    "        probs = np.array(probs)\n",
    "                \n",
    "        for idx,cl in enumerate(np.unique(y_test)):\n",
    "            plt.scatter(x = X_test[:,0][np.where(y_test == cl)[0]],\n",
    "                        y = X_test[:,1][np.where(y_test == cl)[0]],\n",
    "                        alpha = 0.8,\n",
    "                        c = colors[idx],\n",
    "                        marker = 'o',\n",
    "                        label = cl,\n",
    "                        s = 30)\n",
    "            \n",
    "        preds = preds.reshape(xx.shape)\n",
    "        plt.contourf(xx, yy, preds, alpha = 0.3)\n",
    "        plt.legend(loc = 'best')\n",
    "        plt.xlabel('$x_1$', size = 'x-large')\n",
    "        plt.ylabel('$x_2$', size = 'x-large')\n",
    "    ## END\n",
    "## END\n",
    "\n",
    "## Utility Functions ##\n",
    "def sigmoid_function(args):\n",
    "    return (1/(1 + np.exp(-args)))\n",
    "## END\n",
    "\n",
    "def log_function(n):\n",
    "    return np.log(n)\n",
    "## END\n",
    "\n",
    "def logLiklihood(z, y):\n",
    "    \"\"\"Log-liklihood function (cost function to be minimized in logistic regression classification)\"\"\"\n",
    "    return -1 * np.sum((y * np.log(sigmoid_function(z))) + ((1 - y) * np.log(1 - sigmoid_function(z))))\n",
    "## END\n",
    "\n",
    "def reg_logLiklihood(x, weights, y, C):\n",
    "    \"\"\"\n",
    "    Regularizd log-liklihood function\n",
    "    (cost function to minimized in logistic regression classification with L2 regularization)\n",
    "    \"\"\"\n",
    "    z = np.dot(x, weights) \n",
    "    reg_term = (1 / (2 * C)) * np.dot(weights.T, weights)\n",
    "    return -1 * np.sum((y * np.log(sigmoid_function(z))) + ((1 - y) * np.log(1 - sigmoid_function(z)))) + reg_term\n",
    "## END"
   ]
  },
  {
   "cell_type": "markdown",
   "metadata": {},
   "source": [
    "### Breast Cancer Winconsin Dataset Description"
   ]
  },
  {
   "cell_type": "code",
   "execution_count": 3,
   "metadata": {},
   "outputs": [
    {
     "name": "stdout",
     "output_type": "stream",
     "text": [
      "Citation Request:\n",
      "   This breast cancer databases was obtained from the University of Wisconsin\n",
      "   Hospitals, Madison from Dr. William H. Wolberg.  If you publish results\n",
      "   when using this database, then please include this information in your\n",
      "   acknowledgements.  Also, please cite one or more of:\n",
      "\n",
      "   1. O. L. Mangasarian and W. H. Wolberg: \"Cancer diagnosis via linear \n",
      "      programming\", SIAM News, Volume 23, Number 5, September 1990, pp 1 & 18.\n",
      "\n",
      "   2. William H. Wolberg and O.L. Mangasarian: \"Multisurface method of \n",
      "      pattern separation for medical diagnosis applied to breast cytology\", \n",
      "      Proceedings of the National Academy of Sciences, U.S.A., Volume 87, \n",
      "      December 1990, pp 9193-9196.\n",
      "\n",
      "   3. O. L. Mangasarian, R. Setiono, and W.H. Wolberg: \"Pattern recognition \n",
      "      via linear programming: Theory and application to medical diagnosis\", \n",
      "      in: \"Large-scale numerical optimization\", Thomas F. Coleman and Yuying\n",
      "      Li, editors, SIAM Publications, Philadelphia 1990, pp 22-30.\n",
      "\n",
      "   4. K. P. Bennett & O. L. Mangasarian: \"Robust linear programming \n",
      "      discrimination of two linearly inseparable sets\", Optimization Methods\n",
      "      and Software 1, 1992, 23-34 (Gordon & Breach Science Publishers).\n",
      "\n",
      "1. Title: Wisconsin Breast Cancer Database (January 8, 1991)\n",
      "\n",
      "2. Sources:\n",
      "   -- Dr. WIlliam H. Wolberg (physician)\n",
      "      University of Wisconsin Hospitals\n",
      "      Madison, Wisconsin\n",
      "      USA\n",
      "   -- Donor: Olvi Mangasarian (mangasarian@cs.wisc.edu)\n",
      "      Received by David W. Aha (aha@cs.jhu.edu)\n",
      "   -- Date: 15 July 1992\n",
      "\n",
      "3. Past Usage:\n",
      "\n",
      "   Attributes 2 through 10 have been used to represent instances.\n",
      "   Each instance has one of 2 possible classes: benign or malignant.\n",
      "\n",
      "   1. Wolberg,~W.~H., \\& Mangasarian,~O.~L. (1990). Multisurface method of \n",
      "      pattern separation for medical diagnosis applied to breast cytology. In\n",
      "      {\\it Proceedings of the National Academy of Sciences}, {\\it 87},\n",
      "      9193--9196.\n",
      "      -- Size of data set: only 369 instances (at that point in time)\n",
      "      -- Collected classification results: 1 trial only\n",
      "      -- Two pairs of parallel hyperplanes were found to be consistent with\n",
      "         50% of the data\n",
      "         -- Accuracy on remaining 50% of dataset: 93.5%\n",
      "      -- Three pairs of parallel hyperplanes were found to be consistent with\n",
      "         67% of data\n",
      "         -- Accuracy on remaining 33% of dataset: 95.9%\n",
      "\n",
      "   2. Zhang,~J. (1992). Selecting typical instances in instance-based\n",
      "      learning.  In {\\it Proceedings of the Ninth International Machine\n",
      "      Learning Conference} (pp. 470--479).  Aberdeen, Scotland: Morgan\n",
      "      Kaufmann.\n",
      "      -- Size of data set: only 369 instances (at that point in time)\n",
      "      -- Applied 4 instance-based learning algorithms \n",
      "      -- Collected classification results averaged over 10 trials\n",
      "      -- Best accuracy result: \n",
      "         -- 1-nearest neighbor: 93.7%\n",
      "         -- trained on 200 instances, tested on the other 169\n",
      "      -- Also of interest:\n",
      "         -- Using only typical instances: 92.2% (storing only 23.1 instances)\n",
      "         -- trained on 200 instances, tested on the other 169\n",
      "\n",
      "4. Relevant Information:\n",
      "\n",
      "   Samples arrive periodically as Dr. Wolberg reports his clinical cases.\n",
      "   The database therefore reflects this chronological grouping of the data.\n",
      "   This grouping information appears immediately below, having been removed\n",
      "   from the data itself:\n",
      "\n",
      "     Group 1: 367 instances (January 1989)\n",
      "     Group 2:  70 instances (October 1989)\n",
      "     Group 3:  31 instances (February 1990)\n",
      "     Group 4:  17 instances (April 1990)\n",
      "     Group 5:  48 instances (August 1990)\n",
      "     Group 6:  49 instances (Updated January 1991)\n",
      "     Group 7:  31 instances (June 1991)\n",
      "     Group 8:  86 instances (November 1991)\n",
      "     -----------------------------------------\n",
      "     Total:   699 points (as of the donated datbase on 15 July 1992)\n",
      "\n",
      "   Note that the results summarized above in Past Usage refer to a dataset\n",
      "   of size 369, while Group 1 has only 367 instances.  This is because it\n",
      "   originally contained 369 instances; 2 were removed.  The following\n",
      "   statements summarizes changes to the original Group 1's set of data:\n",
      "\n",
      "   #####  Group 1 : 367 points: 200B 167M (January 1989)\n",
      "   #####  Revised Jan 10, 1991: Replaced zero bare nuclei in 1080185 & 1187805\n",
      "   #####  Revised Nov 22,1991: Removed 765878,4,5,9,7,10,10,10,3,8,1 no record\n",
      "   #####                  : Removed 484201,2,7,8,8,4,3,10,3,4,1 zero epithelial\n",
      "   #####                  : Changed 0 to 1 in field 6 of sample 1219406\n",
      "   #####                  : Changed 0 to 1 in field 8 of following sample:\n",
      "   #####                  : 1182404,2,3,1,1,1,2,0,1,1,1\n",
      "\n",
      "5. Number of Instances: 699 (as of 15 July 1992)\n",
      "\n",
      "6. Number of Attributes: 10 plus the class attribute\n",
      "\n",
      "7. Attribute Information: (class attribute has been moved to last column)\n",
      "\n",
      "   #  Attribute                     Domain\n",
      "   -- -----------------------------------------\n",
      "   1. Sample code number            id number\n",
      "   2. Clump Thickness               1 - 10\n",
      "   3. Uniformity of Cell Size       1 - 10\n",
      "   4. Uniformity of Cell Shape      1 - 10\n",
      "   5. Marginal Adhesion             1 - 10\n",
      "   6. Single Epithelial Cell Size   1 - 10\n",
      "   7. Bare Nuclei                   1 - 10\n",
      "   8. Bland Chromatin               1 - 10\n",
      "   9. Normal Nucleoli               1 - 10\n",
      "  10. Mitoses                       1 - 10\n",
      "  11. Class:                        (2 for benign, 4 for malignant)\n",
      "\n",
      "8. Missing attribute values: 16\n",
      "\n",
      "   There are 16 instances in Groups 1 to 6 that contain a single missing \n",
      "   (i.e., unavailable) attribute value, now denoted by \"?\".  \n",
      "\n",
      "9. Class distribution:\n",
      " \n",
      "   Benign: 458 (65.5%)\n",
      "   Malignant: 241 (34.5%)\n",
      "\n"
     ]
    }
   ],
   "source": [
    "dataset_description = open(\"./datasets/breast-cancer-wisconsin.names\")\n",
    "print(dataset_description.read())"
   ]
  },
  {
   "cell_type": "markdown",
   "metadata": {},
   "source": [
    "### Import Breast Cancer Wisconsin dataset\n",
    "### Change the column and index names for the dataset.  "
   ]
  },
  {
   "cell_type": "code",
   "execution_count": 4,
   "metadata": {},
   "outputs": [],
   "source": [
    "df = pd.read_csv(\"datasets/breast-cancer-wisconsin.data\", header = None)\n",
    "df.rename(columns = {0:\"id\", \n",
    "                     1:\"clump-thickness\", \n",
    "                     2:\"cell-size\", \n",
    "                     3:\"cell-shape\", \n",
    "                     4:\"marginal-adhesion\", \n",
    "                     5:\"epithelial-cell-size\", \n",
    "                     6:\"bare-nuclei\", \n",
    "                     7:\"bland-chromatin\", \n",
    "                     8:\"normal-nucleoli\", \n",
    "                     9:\"mitoses\", \n",
    "                     10:\"class\"}, \n",
    "          inplace = True)"
   ]
  },
  {
   "cell_type": "markdown",
   "metadata": {},
   "source": [
    "### Print the first 10 rows of the dataset"
   ]
  },
  {
   "cell_type": "code",
   "execution_count": 5,
   "metadata": {},
   "outputs": [
    {
     "data": {
      "text/html": [
       "<div>\n",
       "<style scoped>\n",
       "    .dataframe tbody tr th:only-of-type {\n",
       "        vertical-align: middle;\n",
       "    }\n",
       "\n",
       "    .dataframe tbody tr th {\n",
       "        vertical-align: top;\n",
       "    }\n",
       "\n",
       "    .dataframe thead th {\n",
       "        text-align: right;\n",
       "    }\n",
       "</style>\n",
       "<table border=\"1\" class=\"dataframe\">\n",
       "  <thead>\n",
       "    <tr style=\"text-align: right;\">\n",
       "      <th></th>\n",
       "      <th>id</th>\n",
       "      <th>clump-thickness</th>\n",
       "      <th>cell-size</th>\n",
       "      <th>cell-shape</th>\n",
       "      <th>marginal-adhesion</th>\n",
       "      <th>epithelial-cell-size</th>\n",
       "      <th>bare-nuclei</th>\n",
       "      <th>bland-chromatin</th>\n",
       "      <th>normal-nucleoli</th>\n",
       "      <th>mitoses</th>\n",
       "      <th>class</th>\n",
       "    </tr>\n",
       "  </thead>\n",
       "  <tbody>\n",
       "    <tr>\n",
       "      <th>0</th>\n",
       "      <td>1000025</td>\n",
       "      <td>5</td>\n",
       "      <td>1</td>\n",
       "      <td>1</td>\n",
       "      <td>1</td>\n",
       "      <td>2</td>\n",
       "      <td>1</td>\n",
       "      <td>3</td>\n",
       "      <td>1</td>\n",
       "      <td>1</td>\n",
       "      <td>2</td>\n",
       "    </tr>\n",
       "    <tr>\n",
       "      <th>1</th>\n",
       "      <td>1002945</td>\n",
       "      <td>5</td>\n",
       "      <td>4</td>\n",
       "      <td>4</td>\n",
       "      <td>5</td>\n",
       "      <td>7</td>\n",
       "      <td>10</td>\n",
       "      <td>3</td>\n",
       "      <td>2</td>\n",
       "      <td>1</td>\n",
       "      <td>2</td>\n",
       "    </tr>\n",
       "    <tr>\n",
       "      <th>2</th>\n",
       "      <td>1015425</td>\n",
       "      <td>3</td>\n",
       "      <td>1</td>\n",
       "      <td>1</td>\n",
       "      <td>1</td>\n",
       "      <td>2</td>\n",
       "      <td>2</td>\n",
       "      <td>3</td>\n",
       "      <td>1</td>\n",
       "      <td>1</td>\n",
       "      <td>2</td>\n",
       "    </tr>\n",
       "    <tr>\n",
       "      <th>3</th>\n",
       "      <td>1016277</td>\n",
       "      <td>6</td>\n",
       "      <td>8</td>\n",
       "      <td>8</td>\n",
       "      <td>1</td>\n",
       "      <td>3</td>\n",
       "      <td>4</td>\n",
       "      <td>3</td>\n",
       "      <td>7</td>\n",
       "      <td>1</td>\n",
       "      <td>2</td>\n",
       "    </tr>\n",
       "    <tr>\n",
       "      <th>4</th>\n",
       "      <td>1017023</td>\n",
       "      <td>4</td>\n",
       "      <td>1</td>\n",
       "      <td>1</td>\n",
       "      <td>3</td>\n",
       "      <td>2</td>\n",
       "      <td>1</td>\n",
       "      <td>3</td>\n",
       "      <td>1</td>\n",
       "      <td>1</td>\n",
       "      <td>2</td>\n",
       "    </tr>\n",
       "    <tr>\n",
       "      <th>5</th>\n",
       "      <td>1017122</td>\n",
       "      <td>8</td>\n",
       "      <td>10</td>\n",
       "      <td>10</td>\n",
       "      <td>8</td>\n",
       "      <td>7</td>\n",
       "      <td>10</td>\n",
       "      <td>9</td>\n",
       "      <td>7</td>\n",
       "      <td>1</td>\n",
       "      <td>4</td>\n",
       "    </tr>\n",
       "    <tr>\n",
       "      <th>6</th>\n",
       "      <td>1018099</td>\n",
       "      <td>1</td>\n",
       "      <td>1</td>\n",
       "      <td>1</td>\n",
       "      <td>1</td>\n",
       "      <td>2</td>\n",
       "      <td>10</td>\n",
       "      <td>3</td>\n",
       "      <td>1</td>\n",
       "      <td>1</td>\n",
       "      <td>2</td>\n",
       "    </tr>\n",
       "    <tr>\n",
       "      <th>7</th>\n",
       "      <td>1018561</td>\n",
       "      <td>2</td>\n",
       "      <td>1</td>\n",
       "      <td>2</td>\n",
       "      <td>1</td>\n",
       "      <td>2</td>\n",
       "      <td>1</td>\n",
       "      <td>3</td>\n",
       "      <td>1</td>\n",
       "      <td>1</td>\n",
       "      <td>2</td>\n",
       "    </tr>\n",
       "    <tr>\n",
       "      <th>8</th>\n",
       "      <td>1033078</td>\n",
       "      <td>2</td>\n",
       "      <td>1</td>\n",
       "      <td>1</td>\n",
       "      <td>1</td>\n",
       "      <td>2</td>\n",
       "      <td>1</td>\n",
       "      <td>1</td>\n",
       "      <td>1</td>\n",
       "      <td>5</td>\n",
       "      <td>2</td>\n",
       "    </tr>\n",
       "    <tr>\n",
       "      <th>9</th>\n",
       "      <td>1033078</td>\n",
       "      <td>4</td>\n",
       "      <td>2</td>\n",
       "      <td>1</td>\n",
       "      <td>1</td>\n",
       "      <td>2</td>\n",
       "      <td>1</td>\n",
       "      <td>2</td>\n",
       "      <td>1</td>\n",
       "      <td>1</td>\n",
       "      <td>2</td>\n",
       "    </tr>\n",
       "  </tbody>\n",
       "</table>\n",
       "</div>"
      ],
      "text/plain": [
       "        id  clump-thickness  cell-size  cell-shape  marginal-adhesion  \\\n",
       "0  1000025                5          1           1                  1   \n",
       "1  1002945                5          4           4                  5   \n",
       "2  1015425                3          1           1                  1   \n",
       "3  1016277                6          8           8                  1   \n",
       "4  1017023                4          1           1                  3   \n",
       "5  1017122                8         10          10                  8   \n",
       "6  1018099                1          1           1                  1   \n",
       "7  1018561                2          1           2                  1   \n",
       "8  1033078                2          1           1                  1   \n",
       "9  1033078                4          2           1                  1   \n",
       "\n",
       "   epithelial-cell-size bare-nuclei  bland-chromatin  normal-nucleoli  \\\n",
       "0                     2           1                3                1   \n",
       "1                     7          10                3                2   \n",
       "2                     2           2                3                1   \n",
       "3                     3           4                3                7   \n",
       "4                     2           1                3                1   \n",
       "5                     7          10                9                7   \n",
       "6                     2          10                3                1   \n",
       "7                     2           1                3                1   \n",
       "8                     2           1                1                1   \n",
       "9                     2           1                2                1   \n",
       "\n",
       "   mitoses  class  \n",
       "0        1      2  \n",
       "1        1      2  \n",
       "2        1      2  \n",
       "3        1      2  \n",
       "4        1      2  \n",
       "5        1      4  \n",
       "6        1      2  \n",
       "7        1      2  \n",
       "8        5      2  \n",
       "9        1      2  "
      ]
     },
     "execution_count": 5,
     "metadata": {},
     "output_type": "execute_result"
    }
   ],
   "source": [
    "df.head(10)"
   ]
  },
  {
   "cell_type": "markdown",
   "metadata": {},
   "source": [
    "### Count the number of values present within the class column of the dataset"
   ]
  },
  {
   "cell_type": "code",
   "execution_count": 6,
   "metadata": {},
   "outputs": [
    {
     "data": {
      "text/plain": [
       "2    458\n",
       "4    241\n",
       "Name: class, dtype: int64"
      ]
     },
     "execution_count": 6,
     "metadata": {},
     "output_type": "execute_result"
    }
   ],
   "source": [
    "df['class'].value_counts()\n",
    "# 2 is for benign cancer\n",
    "# 4 is for malignant cancer"
   ]
  },
  {
   "cell_type": "markdown",
   "metadata": {},
   "source": [
    "### Create the feature and label vectors"
   ]
  },
  {
   "cell_type": "code",
   "execution_count": 7,
   "metadata": {},
   "outputs": [
    {
     "data": {
      "text/html": [
       "<div>\n",
       "<style scoped>\n",
       "    .dataframe tbody tr th:only-of-type {\n",
       "        vertical-align: middle;\n",
       "    }\n",
       "\n",
       "    .dataframe tbody tr th {\n",
       "        vertical-align: top;\n",
       "    }\n",
       "\n",
       "    .dataframe thead th {\n",
       "        text-align: right;\n",
       "    }\n",
       "</style>\n",
       "<table border=\"1\" class=\"dataframe\">\n",
       "  <thead>\n",
       "    <tr style=\"text-align: right;\">\n",
       "      <th></th>\n",
       "      <th>clump-thickness</th>\n",
       "      <th>cell-size</th>\n",
       "      <th>cell-shape</th>\n",
       "      <th>marginal-adhesion</th>\n",
       "      <th>epithelial-cell-size</th>\n",
       "      <th>bare-nuclei</th>\n",
       "      <th>bland-chromatin</th>\n",
       "      <th>normal-nucleoli</th>\n",
       "      <th>mitoses</th>\n",
       "    </tr>\n",
       "  </thead>\n",
       "  <tbody>\n",
       "    <tr>\n",
       "      <th>0</th>\n",
       "      <td>5</td>\n",
       "      <td>1</td>\n",
       "      <td>1</td>\n",
       "      <td>1</td>\n",
       "      <td>2</td>\n",
       "      <td>1</td>\n",
       "      <td>3</td>\n",
       "      <td>1</td>\n",
       "      <td>1</td>\n",
       "    </tr>\n",
       "    <tr>\n",
       "      <th>1</th>\n",
       "      <td>5</td>\n",
       "      <td>4</td>\n",
       "      <td>4</td>\n",
       "      <td>5</td>\n",
       "      <td>7</td>\n",
       "      <td>10</td>\n",
       "      <td>3</td>\n",
       "      <td>2</td>\n",
       "      <td>1</td>\n",
       "    </tr>\n",
       "    <tr>\n",
       "      <th>2</th>\n",
       "      <td>3</td>\n",
       "      <td>1</td>\n",
       "      <td>1</td>\n",
       "      <td>1</td>\n",
       "      <td>2</td>\n",
       "      <td>2</td>\n",
       "      <td>3</td>\n",
       "      <td>1</td>\n",
       "      <td>1</td>\n",
       "    </tr>\n",
       "    <tr>\n",
       "      <th>3</th>\n",
       "      <td>6</td>\n",
       "      <td>8</td>\n",
       "      <td>8</td>\n",
       "      <td>1</td>\n",
       "      <td>3</td>\n",
       "      <td>4</td>\n",
       "      <td>3</td>\n",
       "      <td>7</td>\n",
       "      <td>1</td>\n",
       "    </tr>\n",
       "    <tr>\n",
       "      <th>4</th>\n",
       "      <td>4</td>\n",
       "      <td>1</td>\n",
       "      <td>1</td>\n",
       "      <td>3</td>\n",
       "      <td>2</td>\n",
       "      <td>1</td>\n",
       "      <td>3</td>\n",
       "      <td>1</td>\n",
       "      <td>1</td>\n",
       "    </tr>\n",
       "    <tr>\n",
       "      <th>...</th>\n",
       "      <td>...</td>\n",
       "      <td>...</td>\n",
       "      <td>...</td>\n",
       "      <td>...</td>\n",
       "      <td>...</td>\n",
       "      <td>...</td>\n",
       "      <td>...</td>\n",
       "      <td>...</td>\n",
       "      <td>...</td>\n",
       "    </tr>\n",
       "    <tr>\n",
       "      <th>694</th>\n",
       "      <td>3</td>\n",
       "      <td>1</td>\n",
       "      <td>1</td>\n",
       "      <td>1</td>\n",
       "      <td>3</td>\n",
       "      <td>2</td>\n",
       "      <td>1</td>\n",
       "      <td>1</td>\n",
       "      <td>1</td>\n",
       "    </tr>\n",
       "    <tr>\n",
       "      <th>695</th>\n",
       "      <td>2</td>\n",
       "      <td>1</td>\n",
       "      <td>1</td>\n",
       "      <td>1</td>\n",
       "      <td>2</td>\n",
       "      <td>1</td>\n",
       "      <td>1</td>\n",
       "      <td>1</td>\n",
       "      <td>1</td>\n",
       "    </tr>\n",
       "    <tr>\n",
       "      <th>696</th>\n",
       "      <td>5</td>\n",
       "      <td>10</td>\n",
       "      <td>10</td>\n",
       "      <td>3</td>\n",
       "      <td>7</td>\n",
       "      <td>3</td>\n",
       "      <td>8</td>\n",
       "      <td>10</td>\n",
       "      <td>2</td>\n",
       "    </tr>\n",
       "    <tr>\n",
       "      <th>697</th>\n",
       "      <td>4</td>\n",
       "      <td>8</td>\n",
       "      <td>6</td>\n",
       "      <td>4</td>\n",
       "      <td>3</td>\n",
       "      <td>4</td>\n",
       "      <td>10</td>\n",
       "      <td>6</td>\n",
       "      <td>1</td>\n",
       "    </tr>\n",
       "    <tr>\n",
       "      <th>698</th>\n",
       "      <td>4</td>\n",
       "      <td>8</td>\n",
       "      <td>8</td>\n",
       "      <td>5</td>\n",
       "      <td>4</td>\n",
       "      <td>5</td>\n",
       "      <td>10</td>\n",
       "      <td>4</td>\n",
       "      <td>1</td>\n",
       "    </tr>\n",
       "  </tbody>\n",
       "</table>\n",
       "<p>699 rows × 9 columns</p>\n",
       "</div>"
      ],
      "text/plain": [
       "     clump-thickness  cell-size  cell-shape  marginal-adhesion  \\\n",
       "0                  5          1           1                  1   \n",
       "1                  5          4           4                  5   \n",
       "2                  3          1           1                  1   \n",
       "3                  6          8           8                  1   \n",
       "4                  4          1           1                  3   \n",
       "..               ...        ...         ...                ...   \n",
       "694                3          1           1                  1   \n",
       "695                2          1           1                  1   \n",
       "696                5         10          10                  3   \n",
       "697                4          8           6                  4   \n",
       "698                4          8           8                  5   \n",
       "\n",
       "     epithelial-cell-size bare-nuclei  bland-chromatin  normal-nucleoli  \\\n",
       "0                       2           1                3                1   \n",
       "1                       7          10                3                2   \n",
       "2                       2           2                3                1   \n",
       "3                       3           4                3                7   \n",
       "4                       2           1                3                1   \n",
       "..                    ...         ...              ...              ...   \n",
       "694                     3           2                1                1   \n",
       "695                     2           1                1                1   \n",
       "696                     7           3                8               10   \n",
       "697                     3           4               10                6   \n",
       "698                     4           5               10                4   \n",
       "\n",
       "     mitoses  \n",
       "0          1  \n",
       "1          1  \n",
       "2          1  \n",
       "3          1  \n",
       "4          1  \n",
       "..       ...  \n",
       "694        1  \n",
       "695        1  \n",
       "696        2  \n",
       "697        1  \n",
       "698        1  \n",
       "\n",
       "[699 rows x 9 columns]"
      ]
     },
     "execution_count": 7,
     "metadata": {},
     "output_type": "execute_result"
    }
   ],
   "source": [
    "label_vector = df.iloc[:, 10]   #class labels: 2 = benign, 4 = malignant\n",
    "feature_vector = df.iloc[:, 1:10] #features vectors\n",
    "feature_vector"
   ]
  },
  {
   "cell_type": "markdown",
   "metadata": {},
   "source": [
    "### Encode the label values to the binary values (0 and 1)\n",
    "fit_transform(X, y=None, **fit_params)  \n",
    "\n",
    "Fit to data, then transform it.  \n",
    "Fits transformer to X and y with optional parameters fit_params and returns a transformed version of X.  \n",
    "\n",
    "Parameters  \n",
    "    X:  {array-like, sparse matrix, dataframe} of shape (n_samples, n_features)  \n",
    "    y:  ndarray of shape (n_samples,), default=None. Target values.  \n",
    "\n",
    "Returns  \n",
    "    X_new:  ndarray array of shape (n_samples, n_features_new)\n",
    "            Transformed array."
   ]
  },
  {
   "cell_type": "code",
   "execution_count": 8,
   "metadata": {},
   "outputs": [
    {
     "name": "stdout",
     "output_type": "stream",
     "text": [
      "label_vector has 699 values\n"
     ]
    },
    {
     "data": {
      "text/plain": [
       "array([0, 0, 0, 0, 0, 1, 0, 0, 0, 0, 0, 0, 1, 0, 1, 1, 0, 0, 1, 0, 1, 1,\n",
       "       0, 1, 0, 1, 0, 0, 0, 0, 0, 0, 1, 0, 0, 0, 1, 0, 1, 1, 0, 1, 1, 1,\n",
       "       1, 0, 1, 0, 0, 1, 1, 1, 1, 1, 1, 1, 1, 1, 1, 1, 1, 0, 1, 1, 0, 1,\n",
       "       0, 1, 1, 0, 0, 1, 0, 1, 1, 0, 0, 0, 0, 0, 0, 0, 0, 0, 1, 1, 1, 1,\n",
       "       0, 0, 0, 0, 0, 0, 0, 0, 0, 0, 1, 1, 1, 1, 0, 1, 1, 1, 1, 1, 0, 1,\n",
       "       0, 1, 1, 1, 0, 0, 0, 1, 0, 0, 0, 0, 1, 1, 1, 0, 1, 0, 1, 0, 0, 0,\n",
       "       1, 0, 0, 0, 0, 0, 0, 0, 0, 0, 1, 0, 0, 0, 1, 0, 0, 1, 0, 1, 1, 0,\n",
       "       0, 1, 0, 0, 0, 1, 1, 0, 0, 0, 0, 0, 1, 1, 0, 0, 0, 0, 0, 1, 1, 1,\n",
       "       0, 1, 0, 1, 0, 0, 0, 1, 1, 0, 1, 1, 1, 0, 1, 1, 0, 0, 0, 0, 0, 0,\n",
       "       0, 0, 1, 1, 0, 0, 0, 1, 1, 0, 0, 0, 1, 1, 0, 1, 1, 1, 0, 0, 1, 0,\n",
       "       0, 1, 1, 1, 1, 0, 1, 1, 0, 1, 1, 1, 0, 1, 0, 0, 1, 1, 1, 1, 0, 0,\n",
       "       0, 0, 0, 0, 1, 1, 0, 0, 0, 1, 0, 1, 1, 1, 0, 0, 0, 0, 1, 1, 1, 1,\n",
       "       1, 0, 1, 1, 1, 0, 1, 0, 1, 1, 0, 0, 0, 0, 0, 1, 0, 0, 1, 1, 1, 1,\n",
       "       1, 0, 1, 1, 0, 0, 1, 1, 0, 1, 0, 0, 0, 1, 1, 0, 1, 0, 1, 1, 0, 0,\n",
       "       1, 0, 0, 0, 1, 0, 0, 0, 1, 1, 0, 0, 1, 0, 0, 1, 0, 0, 1, 0, 1, 1,\n",
       "       1, 0, 0, 1, 1, 0, 1, 0, 0, 1, 1, 0, 0, 0, 1, 0, 0, 0, 1, 1, 0, 0,\n",
       "       0, 1, 0, 0, 1, 1, 1, 1, 1, 1, 0, 0, 0, 0, 1, 1, 0, 0, 0, 0, 0, 0,\n",
       "       0, 0, 0, 0, 0, 0, 0, 1, 0, 0, 0, 0, 1, 0, 0, 0, 0, 1, 0, 0, 0, 0,\n",
       "       0, 0, 0, 0, 1, 0, 0, 0, 0, 0, 0, 0, 0, 0, 0, 0, 1, 0, 1, 0, 1, 0,\n",
       "       0, 0, 0, 1, 0, 0, 0, 1, 0, 1, 0, 0, 0, 0, 0, 0, 0, 1, 1, 0, 0, 0,\n",
       "       1, 0, 0, 0, 0, 0, 0, 0, 0, 1, 0, 0, 0, 1, 0, 1, 1, 1, 0, 0, 0, 0,\n",
       "       0, 0, 0, 1, 1, 1, 0, 0, 0, 0, 0, 0, 0, 0, 0, 0, 0, 1, 0, 0, 1, 1,\n",
       "       0, 0, 0, 1, 1, 1, 0, 1, 0, 1, 0, 0, 0, 0, 0, 0, 0, 0, 0, 0, 0, 0,\n",
       "       1, 0, 0, 0, 0, 0, 0, 0, 1, 1, 0, 0, 0, 1, 0, 0, 1, 1, 0, 0, 0, 0,\n",
       "       0, 0, 1, 0, 0, 0, 0, 0, 0, 0, 0, 0, 0, 0, 0, 0, 0, 0, 1, 0, 0, 1,\n",
       "       0, 0, 0, 0, 0, 0, 0, 0, 0, 0, 0, 0, 0, 0, 0, 1, 0, 0, 1, 1, 1, 1,\n",
       "       0, 0, 1, 0, 0, 0, 0, 0, 0, 1, 1, 0, 0, 0, 1, 0, 1, 0, 1, 1, 1, 0,\n",
       "       1, 0, 0, 0, 0, 0, 0, 0, 0, 1, 1, 1, 0, 0, 1, 0, 1, 1, 1, 0, 0, 0,\n",
       "       0, 0, 0, 0, 0, 0, 0, 0, 0, 0, 1, 0, 0, 0, 0, 0, 0, 1, 0, 0, 1, 0,\n",
       "       0, 0, 0, 0, 0, 0, 0, 0, 0, 0, 1, 0, 0, 0, 0, 0, 0, 0, 0, 0, 1, 0,\n",
       "       0, 0, 0, 0, 0, 0, 0, 0, 1, 1, 1, 0, 0, 0, 0, 0, 0, 0, 0, 0, 1, 1,\n",
       "       0, 0, 0, 0, 0, 0, 0, 0, 0, 1, 0, 0, 0, 0, 1, 1, 1], dtype=int64)"
      ]
     },
     "execution_count": 8,
     "metadata": {},
     "output_type": "execute_result"
    }
   ],
   "source": [
    "# positive class = 1 (malignant(4)), negative class = 0 (benign(2))\n",
    "encoder = LabelEncoder()\n",
    "label_vector = encoder.fit_transform(label_vector)\n",
    "print(\"label_vector has {} values\".format(np.size(label_vector)))\n",
    "label_vector"
   ]
  },
  {
   "cell_type": "markdown",
   "metadata": {},
   "source": [
    "### Replace missing feature values with mean feature value"
   ]
  },
  {
   "cell_type": "code",
   "execution_count": 9,
   "metadata": {},
   "outputs": [],
   "source": [
    "feature_vector = feature_vector.replace('?', np.nan)\n",
    "imr = SimpleImputer(missing_values=np.nan, strategy='mean')\n",
    "imr = imr.fit(feature_vector)\n",
    "features = imr.transform(feature_vector.values)\n",
    "\n",
    "# feature_vector.fillna(value=feature_vector.mean())"
   ]
  },
  {
   "cell_type": "markdown",
   "metadata": {},
   "source": [
    "### Split data into training (70%) and testing (30%) sets"
   ]
  },
  {
   "cell_type": "code",
   "execution_count": 10,
   "metadata": {},
   "outputs": [
    {
     "name": "stdout",
     "output_type": "stream",
     "text": [
      "shape of input training data: (489, 9)\n",
      "shape of output training data: (489,)\n",
      "shape of input testing data: (210, 9)\n",
      "shape of output testing data: (210,)\n"
     ]
    }
   ],
   "source": [
    "X_train, X_test, Y_train, Y_test = train_test_split(features, label_vector, test_size = 0.3, random_state = 2020)\n",
    "\n",
    "print(\"shape of input training data:\",X_train.shape)\n",
    "print(\"shape of output training data:\",Y_train.shape)\n",
    "print(\"shape of input testing data:\",X_test.shape)\n",
    "print(\"shape of output testing data:\",Y_test.shape)"
   ]
  },
  {
   "cell_type": "markdown",
   "metadata": {},
   "source": [
    "### sklearn.preprocessing.StandardScaler() \n",
    "It removes the mean and scales each feature/variable to unit variance.\n",
    "This operation is performed feature-wise in an independent way.  \n",
    "It can be influenced by outliers (if they exist in the dataset) since it involves the estimation of the empirical mean and standard deviation of each feature.\n",
    "\n",
    "transform(X[, copy]): Perform standardization by centering and scaling  \n",
    "fit_transform(X[, y]): Fit to data, then transform it."
   ]
  },
  {
   "cell_type": "code",
   "execution_count": 11,
   "metadata": {},
   "outputs": [],
   "source": [
    "#Z-score normalization\n",
    "sc = StandardScaler()\n",
    "X_train_std = sc.fit_transform(X_train)\n",
    "X_test_std = sc.transform(X_test)"
   ]
  },
  {
   "cell_type": "markdown",
   "metadata": {},
   "source": [
    "### Principle component analysis (dimensionality reduction)"
   ]
  },
  {
   "cell_type": "code",
   "execution_count": 12,
   "metadata": {},
   "outputs": [],
   "source": [
    "pca = PCA(n_components = 2)\n",
    "X_train_pca = pca.fit_transform(X_train_std)\n",
    "X_test_pca = pca.transform(X_test_std)"
   ]
  },
  {
   "cell_type": "markdown",
   "metadata": {},
   "source": [
    "### Training logistic regression classifier with L2 penalty"
   ]
  },
  {
   "cell_type": "code",
   "execution_count": 13,
   "metadata": {},
   "outputs": [
    {
     "data": {
      "text/plain": [
       "<__main__.LogisticRegression at 0x2566bb26190>"
      ]
     },
     "execution_count": 13,
     "metadata": {},
     "output_type": "execute_result"
    }
   ],
   "source": [
    "LR = LogisticRegression(learningRate = 0.01, numIterations = 20, penalty = \"L2\", C = 0.01)\n",
    "LR.train(X_train_pca, Y_train, tol = 10 ** -3) # tol=0.001"
   ]
  },
  {
   "cell_type": "markdown",
   "metadata": {},
   "source": [
    "### Testing fitted model on test data with cutoff probability 50%"
   ]
  },
  {
   "cell_type": "code",
   "execution_count": 14,
   "metadata": {},
   "outputs": [
    {
     "data": {
      "image/png": "[encoded data removed]",
      "text/plain": [
       "<Figure size 432x288 with 1 Axes>"
      ]
     },
     "metadata": {
      "needs_background": "light"
     },
     "output_type": "display_data"
    },
    {
     "data": {
      "image/png": "[encoded data removed]",
      "text/plain": [
       "<Figure size 432x288 with 1 Axes>"
      ]
     },
     "metadata": {
      "needs_background": "light"
     },
     "output_type": "display_data"
    }
   ],
   "source": [
    "predictions, probs = LR.predict(X_test_pca, 0.5)\n",
    "performance = LR.performanceEval(predictions, Y_test)\n",
    "LR.plotDecisionRegions(X_test_pca, Y_test)\n",
    "LR.predictionPlot(X_test_pca, Y_test)"
   ]
  },
  {
   "cell_type": "markdown",
   "metadata": {},
   "source": [
    "### Print out performance values"
   ]
  },
  {
   "cell_type": "code",
   "execution_count": 15,
   "metadata": {},
   "outputs": [
    {
     "name": "stdout",
     "output_type": "stream",
     "text": [
      "Accuracy : 0.98\n",
      "Sensitivity : 0.97\n",
      "Specificity : 0.98\n",
      "Precision : 0.96\n",
      "NPV : 0.99\n",
      "FNR : 0.03\n",
      "FPR : 0.02\n"
     ]
    }
   ],
   "source": [
    "for key, value in performance.items():\n",
    "    print('%s : %.2f' % (key, value))"
   ]
  },
  {
   "cell_type": "markdown",
   "metadata": {},
   "source": [
    "### Training logistic regression classifier with No penalty"
   ]
  },
  {
   "cell_type": "code",
   "execution_count": 16,
   "metadata": {},
   "outputs": [
    {
     "data": {
      "image/png": "[encoded data removed]",
      "text/plain": [
       "<Figure size 432x288 with 1 Axes>"
      ]
     },
     "metadata": {
      "needs_background": "light"
     },
     "output_type": "display_data"
    },
    {
     "data": {
      "image/png": "[encoded data removed]",
      "text/plain": [
       "<Figure size 432x288 with 1 Axes>"
      ]
     },
     "metadata": {
      "needs_background": "light"
     },
     "output_type": "display_data"
    }
   ],
   "source": [
    "LR = LogisticRegression(learningRate = 0.01, numIterations = 20, penalty = None, C = 0.01)\n",
    "LR.train(X_train_pca, Y_train, tol = 10 ** -3) # tol=0.001\n",
    "predictions, probs = LR.predict(X_test_pca, 0.5)\n",
    "performance = LR.performanceEval(predictions, Y_test)\n",
    "LR.plotDecisionRegions(X_test_pca, Y_test)\n",
    "LR.predictionPlot(X_test_pca, Y_test)"
   ]
  },
  {
   "cell_type": "code",
   "execution_count": 17,
   "metadata": {},
   "outputs": [
    {
     "name": "stdout",
     "output_type": "stream",
     "text": [
      "Accuracy : 0.98\n",
      "Sensitivity : 0.97\n",
      "Specificity : 0.98\n",
      "Precision : 0.96\n",
      "NPV : 0.99\n",
      "FNR : 0.03\n",
      "FPR : 0.02\n"
     ]
    }
   ],
   "source": [
    "for key, value in performance.items():\n",
    "    print('%s : %.2f' % (key, value))"
   ]
  }
 ],
 "metadata": {
  "kernelspec": {
   "display_name": "Python 3",
   "language": "python",
   "name": "python3"
  },
  "language_info": {
   "codemirror_mode": {
    "name": "ipython",
    "version": 3
   },
   "file_extension": ".py",
   "mimetype": "text/x-python",
   "name": "python",
   "nbconvert_exporter": "python",
   "pygments_lexer": "ipython3",
   "version": "3.8.5"
  }
 },
 "nbformat": 4,
 "nbformat_minor": 4
}
