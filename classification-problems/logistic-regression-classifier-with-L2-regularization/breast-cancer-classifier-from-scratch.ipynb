{
 "cells": [
  {
   "cell_type": "markdown",
   "metadata": {},
   "source": [
    "## Breast Cancer Classifier from scratch"
   ]
  },
  {
   "cell_type": "markdown",
   "metadata": {},
   "source": [
    "### Load the required libraries"
   ]
  },
  {
   "cell_type": "code",
   "execution_count": 1,
   "metadata": {},
   "outputs": [],
   "source": [
    "import numpy as np\n",
    "import pandas as pd\n",
    "import matplotlib.pyplot as plt\n",
    "from sklearn.model_selection import train_test_split\n",
    "from sklearn.preprocessing import StandardScaler\n",
    "from sklearn.metrics import accuracy_score"
   ]
  },
  {
   "cell_type": "markdown",
   "metadata": {},
   "source": [
    "### Load and Read the dataset\n",
    "### Change the columns name also"
   ]
  },
  {
   "cell_type": "code",
   "execution_count": 2,
   "metadata": {},
   "outputs": [],
   "source": [
    "df = pd.read_csv(\"datasets/breast-cancer-wisconsin.data\", header = None)\n",
    "df.rename(columns = {0:\"id\", \n",
    "                     1:\"clump-thickness\", \n",
    "                     2:\"cell-size\", \n",
    "                     3:\"cell-shape\", \n",
    "                     4:\"marginal-adhesion\", \n",
    "                     5:\"epithelial-cell-size\", \n",
    "                     6:\"bare-nuclei\", \n",
    "                     7:\"bland-chromatin\", \n",
    "                     8:\"normal-nucleoli\", \n",
    "                     9:\"mitoses\", \n",
    "                     10:\"class\"}, \n",
    "          inplace = True)"
   ]
  },
  {
   "cell_type": "code",
   "execution_count": 3,
   "metadata": {},
   "outputs": [
    {
     "data": {
      "text/html": [
       "<div>\n",
       "<style scoped>\n",
       "    .dataframe tbody tr th:only-of-type {\n",
       "        vertical-align: middle;\n",
       "    }\n",
       "\n",
       "    .dataframe tbody tr th {\n",
       "        vertical-align: top;\n",
       "    }\n",
       "\n",
       "    .dataframe thead th {\n",
       "        text-align: right;\n",
       "    }\n",
       "</style>\n",
       "<table border=\"1\" class=\"dataframe\">\n",
       "  <thead>\n",
       "    <tr style=\"text-align: right;\">\n",
       "      <th></th>\n",
       "      <th>id</th>\n",
       "      <th>clump-thickness</th>\n",
       "      <th>cell-size</th>\n",
       "      <th>cell-shape</th>\n",
       "      <th>marginal-adhesion</th>\n",
       "      <th>epithelial-cell-size</th>\n",
       "      <th>bare-nuclei</th>\n",
       "      <th>bland-chromatin</th>\n",
       "      <th>normal-nucleoli</th>\n",
       "      <th>mitoses</th>\n",
       "      <th>class</th>\n",
       "    </tr>\n",
       "  </thead>\n",
       "  <tbody>\n",
       "    <tr>\n",
       "      <th>0</th>\n",
       "      <td>1000025</td>\n",
       "      <td>5</td>\n",
       "      <td>1</td>\n",
       "      <td>1</td>\n",
       "      <td>1</td>\n",
       "      <td>2</td>\n",
       "      <td>1</td>\n",
       "      <td>3</td>\n",
       "      <td>1</td>\n",
       "      <td>1</td>\n",
       "      <td>2</td>\n",
       "    </tr>\n",
       "    <tr>\n",
       "      <th>1</th>\n",
       "      <td>1002945</td>\n",
       "      <td>5</td>\n",
       "      <td>4</td>\n",
       "      <td>4</td>\n",
       "      <td>5</td>\n",
       "      <td>7</td>\n",
       "      <td>10</td>\n",
       "      <td>3</td>\n",
       "      <td>2</td>\n",
       "      <td>1</td>\n",
       "      <td>2</td>\n",
       "    </tr>\n",
       "    <tr>\n",
       "      <th>2</th>\n",
       "      <td>1015425</td>\n",
       "      <td>3</td>\n",
       "      <td>1</td>\n",
       "      <td>1</td>\n",
       "      <td>1</td>\n",
       "      <td>2</td>\n",
       "      <td>2</td>\n",
       "      <td>3</td>\n",
       "      <td>1</td>\n",
       "      <td>1</td>\n",
       "      <td>2</td>\n",
       "    </tr>\n",
       "    <tr>\n",
       "      <th>3</th>\n",
       "      <td>1016277</td>\n",
       "      <td>6</td>\n",
       "      <td>8</td>\n",
       "      <td>8</td>\n",
       "      <td>1</td>\n",
       "      <td>3</td>\n",
       "      <td>4</td>\n",
       "      <td>3</td>\n",
       "      <td>7</td>\n",
       "      <td>1</td>\n",
       "      <td>2</td>\n",
       "    </tr>\n",
       "    <tr>\n",
       "      <th>4</th>\n",
       "      <td>1017023</td>\n",
       "      <td>4</td>\n",
       "      <td>1</td>\n",
       "      <td>1</td>\n",
       "      <td>3</td>\n",
       "      <td>2</td>\n",
       "      <td>1</td>\n",
       "      <td>3</td>\n",
       "      <td>1</td>\n",
       "      <td>1</td>\n",
       "      <td>2</td>\n",
       "    </tr>\n",
       "    <tr>\n",
       "      <th>5</th>\n",
       "      <td>1017122</td>\n",
       "      <td>8</td>\n",
       "      <td>10</td>\n",
       "      <td>10</td>\n",
       "      <td>8</td>\n",
       "      <td>7</td>\n",
       "      <td>10</td>\n",
       "      <td>9</td>\n",
       "      <td>7</td>\n",
       "      <td>1</td>\n",
       "      <td>4</td>\n",
       "    </tr>\n",
       "    <tr>\n",
       "      <th>6</th>\n",
       "      <td>1018099</td>\n",
       "      <td>1</td>\n",
       "      <td>1</td>\n",
       "      <td>1</td>\n",
       "      <td>1</td>\n",
       "      <td>2</td>\n",
       "      <td>10</td>\n",
       "      <td>3</td>\n",
       "      <td>1</td>\n",
       "      <td>1</td>\n",
       "      <td>2</td>\n",
       "    </tr>\n",
       "    <tr>\n",
       "      <th>7</th>\n",
       "      <td>1018561</td>\n",
       "      <td>2</td>\n",
       "      <td>1</td>\n",
       "      <td>2</td>\n",
       "      <td>1</td>\n",
       "      <td>2</td>\n",
       "      <td>1</td>\n",
       "      <td>3</td>\n",
       "      <td>1</td>\n",
       "      <td>1</td>\n",
       "      <td>2</td>\n",
       "    </tr>\n",
       "    <tr>\n",
       "      <th>8</th>\n",
       "      <td>1033078</td>\n",
       "      <td>2</td>\n",
       "      <td>1</td>\n",
       "      <td>1</td>\n",
       "      <td>1</td>\n",
       "      <td>2</td>\n",
       "      <td>1</td>\n",
       "      <td>1</td>\n",
       "      <td>1</td>\n",
       "      <td>5</td>\n",
       "      <td>2</td>\n",
       "    </tr>\n",
       "    <tr>\n",
       "      <th>9</th>\n",
       "      <td>1033078</td>\n",
       "      <td>4</td>\n",
       "      <td>2</td>\n",
       "      <td>1</td>\n",
       "      <td>1</td>\n",
       "      <td>2</td>\n",
       "      <td>1</td>\n",
       "      <td>2</td>\n",
       "      <td>1</td>\n",
       "      <td>1</td>\n",
       "      <td>2</td>\n",
       "    </tr>\n",
       "  </tbody>\n",
       "</table>\n",
       "</div>"
      ],
      "text/plain": [
       "        id  clump-thickness  cell-size  cell-shape  marginal-adhesion  \\\n",
       "0  1000025                5          1           1                  1   \n",
       "1  1002945                5          4           4                  5   \n",
       "2  1015425                3          1           1                  1   \n",
       "3  1016277                6          8           8                  1   \n",
       "4  1017023                4          1           1                  3   \n",
       "5  1017122                8         10          10                  8   \n",
       "6  1018099                1          1           1                  1   \n",
       "7  1018561                2          1           2                  1   \n",
       "8  1033078                2          1           1                  1   \n",
       "9  1033078                4          2           1                  1   \n",
       "\n",
       "   epithelial-cell-size bare-nuclei  bland-chromatin  normal-nucleoli  \\\n",
       "0                     2           1                3                1   \n",
       "1                     7          10                3                2   \n",
       "2                     2           2                3                1   \n",
       "3                     3           4                3                7   \n",
       "4                     2           1                3                1   \n",
       "5                     7          10                9                7   \n",
       "6                     2          10                3                1   \n",
       "7                     2           1                3                1   \n",
       "8                     2           1                1                1   \n",
       "9                     2           1                2                1   \n",
       "\n",
       "   mitoses  class  \n",
       "0        1      2  \n",
       "1        1      2  \n",
       "2        1      2  \n",
       "3        1      2  \n",
       "4        1      2  \n",
       "5        1      4  \n",
       "6        1      2  \n",
       "7        1      2  \n",
       "8        5      2  \n",
       "9        1      2  "
      ]
     },
     "execution_count": 3,
     "metadata": {},
     "output_type": "execute_result"
    }
   ],
   "source": [
    "df.head(10)"
   ]
  },
  {
   "cell_type": "markdown",
   "metadata": {},
   "source": [
    "### Count the observations for different classes"
   ]
  },
  {
   "cell_type": "code",
   "execution_count": 4,
   "metadata": {},
   "outputs": [
    {
     "data": {
      "text/plain": [
       "2    458\n",
       "4    241\n",
       "Name: class, dtype: int64"
      ]
     },
     "execution_count": 4,
     "metadata": {},
     "output_type": "execute_result"
    }
   ],
   "source": [
    "df['class'].value_counts()\n",
    "# 2 is for benign cancer\n",
    "# 4 is for malignant cancer"
   ]
  },
  {
   "cell_type": "markdown",
   "metadata": {},
   "source": [
    "### Create input matrix and labels for the given dataset"
   ]
  },
  {
   "cell_type": "code",
   "execution_count": 5,
   "metadata": {},
   "outputs": [],
   "source": [
    "label_vector = df.iloc[:, 10]   #class labels: 2 = benign, 4 = malignant\n",
    "feature_vector = df.iloc[:, 1:10] #features vectors"
   ]
  },
  {
   "cell_type": "code",
   "execution_count": 6,
   "metadata": {},
   "outputs": [
    {
     "data": {
      "text/html": [
       "<div>\n",
       "<style scoped>\n",
       "    .dataframe tbody tr th:only-of-type {\n",
       "        vertical-align: middle;\n",
       "    }\n",
       "\n",
       "    .dataframe tbody tr th {\n",
       "        vertical-align: top;\n",
       "    }\n",
       "\n",
       "    .dataframe thead th {\n",
       "        text-align: right;\n",
       "    }\n",
       "</style>\n",
       "<table border=\"1\" class=\"dataframe\">\n",
       "  <thead>\n",
       "    <tr style=\"text-align: right;\">\n",
       "      <th></th>\n",
       "      <th>clump-thickness</th>\n",
       "      <th>cell-size</th>\n",
       "      <th>cell-shape</th>\n",
       "      <th>marginal-adhesion</th>\n",
       "      <th>epithelial-cell-size</th>\n",
       "      <th>bare-nuclei</th>\n",
       "      <th>bland-chromatin</th>\n",
       "      <th>normal-nucleoli</th>\n",
       "      <th>mitoses</th>\n",
       "    </tr>\n",
       "  </thead>\n",
       "  <tbody>\n",
       "    <tr>\n",
       "      <th>0</th>\n",
       "      <td>5</td>\n",
       "      <td>1</td>\n",
       "      <td>1</td>\n",
       "      <td>1</td>\n",
       "      <td>2</td>\n",
       "      <td>1</td>\n",
       "      <td>3</td>\n",
       "      <td>1</td>\n",
       "      <td>1</td>\n",
       "    </tr>\n",
       "    <tr>\n",
       "      <th>1</th>\n",
       "      <td>5</td>\n",
       "      <td>4</td>\n",
       "      <td>4</td>\n",
       "      <td>5</td>\n",
       "      <td>7</td>\n",
       "      <td>10</td>\n",
       "      <td>3</td>\n",
       "      <td>2</td>\n",
       "      <td>1</td>\n",
       "    </tr>\n",
       "    <tr>\n",
       "      <th>2</th>\n",
       "      <td>3</td>\n",
       "      <td>1</td>\n",
       "      <td>1</td>\n",
       "      <td>1</td>\n",
       "      <td>2</td>\n",
       "      <td>2</td>\n",
       "      <td>3</td>\n",
       "      <td>1</td>\n",
       "      <td>1</td>\n",
       "    </tr>\n",
       "    <tr>\n",
       "      <th>3</th>\n",
       "      <td>6</td>\n",
       "      <td>8</td>\n",
       "      <td>8</td>\n",
       "      <td>1</td>\n",
       "      <td>3</td>\n",
       "      <td>4</td>\n",
       "      <td>3</td>\n",
       "      <td>7</td>\n",
       "      <td>1</td>\n",
       "    </tr>\n",
       "    <tr>\n",
       "      <th>4</th>\n",
       "      <td>4</td>\n",
       "      <td>1</td>\n",
       "      <td>1</td>\n",
       "      <td>3</td>\n",
       "      <td>2</td>\n",
       "      <td>1</td>\n",
       "      <td>3</td>\n",
       "      <td>1</td>\n",
       "      <td>1</td>\n",
       "    </tr>\n",
       "    <tr>\n",
       "      <th>...</th>\n",
       "      <td>...</td>\n",
       "      <td>...</td>\n",
       "      <td>...</td>\n",
       "      <td>...</td>\n",
       "      <td>...</td>\n",
       "      <td>...</td>\n",
       "      <td>...</td>\n",
       "      <td>...</td>\n",
       "      <td>...</td>\n",
       "    </tr>\n",
       "    <tr>\n",
       "      <th>694</th>\n",
       "      <td>3</td>\n",
       "      <td>1</td>\n",
       "      <td>1</td>\n",
       "      <td>1</td>\n",
       "      <td>3</td>\n",
       "      <td>2</td>\n",
       "      <td>1</td>\n",
       "      <td>1</td>\n",
       "      <td>1</td>\n",
       "    </tr>\n",
       "    <tr>\n",
       "      <th>695</th>\n",
       "      <td>2</td>\n",
       "      <td>1</td>\n",
       "      <td>1</td>\n",
       "      <td>1</td>\n",
       "      <td>2</td>\n",
       "      <td>1</td>\n",
       "      <td>1</td>\n",
       "      <td>1</td>\n",
       "      <td>1</td>\n",
       "    </tr>\n",
       "    <tr>\n",
       "      <th>696</th>\n",
       "      <td>5</td>\n",
       "      <td>10</td>\n",
       "      <td>10</td>\n",
       "      <td>3</td>\n",
       "      <td>7</td>\n",
       "      <td>3</td>\n",
       "      <td>8</td>\n",
       "      <td>10</td>\n",
       "      <td>2</td>\n",
       "    </tr>\n",
       "    <tr>\n",
       "      <th>697</th>\n",
       "      <td>4</td>\n",
       "      <td>8</td>\n",
       "      <td>6</td>\n",
       "      <td>4</td>\n",
       "      <td>3</td>\n",
       "      <td>4</td>\n",
       "      <td>10</td>\n",
       "      <td>6</td>\n",
       "      <td>1</td>\n",
       "    </tr>\n",
       "    <tr>\n",
       "      <th>698</th>\n",
       "      <td>4</td>\n",
       "      <td>8</td>\n",
       "      <td>8</td>\n",
       "      <td>5</td>\n",
       "      <td>4</td>\n",
       "      <td>5</td>\n",
       "      <td>10</td>\n",
       "      <td>4</td>\n",
       "      <td>1</td>\n",
       "    </tr>\n",
       "  </tbody>\n",
       "</table>\n",
       "<p>699 rows × 9 columns</p>\n",
       "</div>"
      ],
      "text/plain": [
       "     clump-thickness  cell-size  cell-shape  marginal-adhesion  \\\n",
       "0                  5          1           1                  1   \n",
       "1                  5          4           4                  5   \n",
       "2                  3          1           1                  1   \n",
       "3                  6          8           8                  1   \n",
       "4                  4          1           1                  3   \n",
       "..               ...        ...         ...                ...   \n",
       "694                3          1           1                  1   \n",
       "695                2          1           1                  1   \n",
       "696                5         10          10                  3   \n",
       "697                4          8           6                  4   \n",
       "698                4          8           8                  5   \n",
       "\n",
       "     epithelial-cell-size bare-nuclei  bland-chromatin  normal-nucleoli  \\\n",
       "0                       2           1                3                1   \n",
       "1                       7          10                3                2   \n",
       "2                       2           2                3                1   \n",
       "3                       3           4                3                7   \n",
       "4                       2           1                3                1   \n",
       "..                    ...         ...              ...              ...   \n",
       "694                     3           2                1                1   \n",
       "695                     2           1                1                1   \n",
       "696                     7           3                8               10   \n",
       "697                     3           4               10                6   \n",
       "698                     4           5               10                4   \n",
       "\n",
       "     mitoses  \n",
       "0          1  \n",
       "1          1  \n",
       "2          1  \n",
       "3          1  \n",
       "4          1  \n",
       "..       ...  \n",
       "694        1  \n",
       "695        1  \n",
       "696        2  \n",
       "697        1  \n",
       "698        1  \n",
       "\n",
       "[699 rows x 9 columns]"
      ]
     },
     "execution_count": 6,
     "metadata": {},
     "output_type": "execute_result"
    }
   ],
   "source": [
    "feature_vector"
   ]
  },
  {
   "cell_type": "markdown",
   "metadata": {},
   "source": [
    "### Relabel the observed values as 0 and 1"
   ]
  },
  {
   "cell_type": "code",
   "execution_count": 7,
   "metadata": {},
   "outputs": [
    {
     "data": {
      "text/plain": [
       "0    458\n",
       "1    241\n",
       "Name: class, dtype: int64"
      ]
     },
     "execution_count": 7,
     "metadata": {},
     "output_type": "execute_result"
    }
   ],
   "source": [
    "# type(label_vector)\n",
    "label_vector = label_vector.replace(2,0)\n",
    "label_vector = label_vector.replace(4,1)\n",
    "label_vector.value_counts()"
   ]
  },
  {
   "cell_type": "markdown",
   "metadata": {},
   "source": [
    "### Data Preprocessing"
   ]
  },
  {
   "cell_type": "code",
   "execution_count": 8,
   "metadata": {},
   "outputs": [
    {
     "name": "stdout",
     "output_type": "stream",
     "text": [
      "Does the feature set contain any null values: False\n",
      "\n",
      "Feature set information\n",
      "<class 'pandas.core.frame.DataFrame'>\n",
      "RangeIndex: 699 entries, 0 to 698\n",
      "Data columns (total 9 columns):\n",
      " #   Column                Non-Null Count  Dtype \n",
      "---  ------                --------------  ----- \n",
      " 0   clump-thickness       699 non-null    int64 \n",
      " 1   cell-size             699 non-null    int64 \n",
      " 2   cell-shape            699 non-null    int64 \n",
      " 3   marginal-adhesion     699 non-null    int64 \n",
      " 4   epithelial-cell-size  699 non-null    int64 \n",
      " 5   bare-nuclei           699 non-null    object\n",
      " 6   bland-chromatin       699 non-null    int64 \n",
      " 7   normal-nucleoli       699 non-null    int64 \n",
      " 8   mitoses               699 non-null    int64 \n",
      "dtypes: int64(8), object(1)\n",
      "memory usage: 49.3+ KB\n"
     ]
    }
   ],
   "source": [
    "print(\"Does the feature set contain any null values:\",feature_vector.isnull().values.any())\n",
    "print(\"\\nFeature set information\")\n",
    "feature_vector.info()"
   ]
  },
  {
   "cell_type": "markdown",
   "metadata": {},
   "source": [
    "The last cell says that the values for the feature \"bare-nuclei\" is an object, which is not compatible for our calculations.  \n",
    "So we need to change it into the int64 type, so that it becomes homogeneous with the entire dataset."
   ]
  },
  {
   "cell_type": "code",
   "execution_count": 9,
   "metadata": {},
   "outputs": [
    {
     "data": {
      "text/plain": [
       "clump-thickness         4.417740\n",
       "cell-size               3.134478\n",
       "cell-shape              3.207439\n",
       "marginal-adhesion       2.806867\n",
       "epithelial-cell-size    3.216023\n",
       "bland-chromatin         3.437768\n",
       "normal-nucleoli         2.866953\n",
       "mitoses                 1.589413\n",
       "dtype: float64"
      ]
     },
     "execution_count": 9,
     "metadata": {},
     "output_type": "execute_result"
    }
   ],
   "source": [
    "feature_vector.mean()"
   ]
  },
  {
   "cell_type": "markdown",
   "metadata": {},
   "source": [
    "The last cell does not contain the mean value for the \"bare-nuclei\" feature, as it is of type object.  \n",
    "Lets try to change the type for this."
   ]
  },
  {
   "cell_type": "code",
   "execution_count": 11,
   "metadata": {},
   "outputs": [],
   "source": [
    "# feature_vector[\"bare-nuclei\"].astype('int64')"
   ]
  },
  {
   "cell_type": "markdown",
   "metadata": {},
   "source": [
    "We got an error while trying to change the type for the \"bare-nuclei\" feature.  \n",
    "ValueError: invalid literal for int() with base 10: '?'  \n",
    "This means that there are some entries within that feature which contains '?' as values (hence incompatible)."
   ]
  },
  {
   "cell_type": "code",
   "execution_count": 16,
   "metadata": {},
   "outputs": [
    {
     "data": {
      "text/plain": [
       "False    683\n",
       "True      16\n",
       "Name: bare-nuclei, dtype: int64"
      ]
     },
     "execution_count": 16,
     "metadata": {},
     "output_type": "execute_result"
    }
   ],
   "source": [
    "# tmp = feature_vector[\"bare-nuclei\"].where(lambda x : x != '?')\n",
    "# tmp.str.contains(\"?\", regex=False).value_counts()\n",
    "feature_vector[\"bare-nuclei\"].str.contains(\"?\", regex=False).value_counts()"
   ]
  },
  {
   "cell_type": "markdown",
   "metadata": {},
   "source": [
    "There are 16 such entries which are making the \"bare-nuclei\" feature incompatible for modelling.  \n",
    "Now we have to get rid of such entries first before changing the type for that feature.  \n",
    "One possible way of dealing with such entries would be to drop them and all the corresponding entries of the other features as well.  \n",
    "But doing so would leave us with lesses data for modelling.  \n",
    "We will even lose the patterns or insights that these entries might be holding to.  \n",
    "There is another way to solve this issue, where we can replace the incompatible entries with the mean of all the entries for that particular feature.  \n",
    "This will save us from lossing the insights into the dataset.  \n",
    "Although dropping the entries would be advisable if the number of incompatible entries are insignificant than the voulume of the entire dataset."
   ]
  },
  {
   "cell_type": "code",
   "execution_count": 17,
   "metadata": {},
   "outputs": [],
   "source": [
    "def get_mean_for_bare_nulcei():\n",
    "    tmp = feature_vector[\"bare-nuclei\"].to_numpy()\n",
    "    sum = 0\n",
    "    for n in tmp:\n",
    "        if (n == '?'):\n",
    "            continue\n",
    "        else:\n",
    "            sum += int(n)\n",
    "    return sum/np.size(tmp)\n",
    "## END"
   ]
  },
  {
   "cell_type": "code",
   "execution_count": 20,
   "metadata": {},
   "outputs": [],
   "source": [
    "mean_value = get_mean_for_bare_nulcei()\n",
    "# mean_value  # 3.463519313304721"
   ]
  },
  {
   "cell_type": "markdown",
   "metadata": {},
   "source": [
    "We will replace the incompatible values with the mean values after converting them into int64."
   ]
  },
  {
   "cell_type": "code",
   "execution_count": 21,
   "metadata": {},
   "outputs": [],
   "source": [
    "feature_vector[\"bare-nuclei\"] = feature_vector[\"bare-nuclei\"].replace('?', int(mean_value))"
   ]
  },
  {
   "cell_type": "markdown",
   "metadata": {},
   "source": [
    "Now we will change the type of the \"bare-nuclei\" feature to int64."
   ]
  },
  {
   "cell_type": "code",
   "execution_count": 22,
   "metadata": {},
   "outputs": [],
   "source": [
    "feature_vector[\"bare-nuclei\"] = feature_vector[\"bare-nuclei\"].astype('int64')"
   ]
  },
  {
   "cell_type": "code",
   "execution_count": 23,
   "metadata": {},
   "outputs": [
    {
     "name": "stdout",
     "output_type": "stream",
     "text": [
      "<class 'pandas.core.frame.DataFrame'>\n",
      "RangeIndex: 699 entries, 0 to 698\n",
      "Data columns (total 9 columns):\n",
      " #   Column                Non-Null Count  Dtype\n",
      "---  ------                --------------  -----\n",
      " 0   clump-thickness       699 non-null    int64\n",
      " 1   cell-size             699 non-null    int64\n",
      " 2   cell-shape            699 non-null    int64\n",
      " 3   marginal-adhesion     699 non-null    int64\n",
      " 4   epithelial-cell-size  699 non-null    int64\n",
      " 5   bare-nuclei           699 non-null    int64\n",
      " 6   bland-chromatin       699 non-null    int64\n",
      " 7   normal-nucleoli       699 non-null    int64\n",
      " 8   mitoses               699 non-null    int64\n",
      "dtypes: int64(9)\n",
      "memory usage: 49.3 KB\n"
     ]
    }
   ],
   "source": [
    "feature_vector.info()"
   ]
  },
  {
   "cell_type": "markdown",
   "metadata": {},
   "source": [
    "### Split the training and testing data\n",
    "Here we will keep 30% of the entire dataset for testing."
   ]
  },
  {
   "cell_type": "code",
   "execution_count": 24,
   "metadata": {},
   "outputs": [
    {
     "name": "stdout",
     "output_type": "stream",
     "text": [
      "shape of input training data: (489, 9)\n",
      "shape of output training data: (489,)\n",
      "shape of input testing data: (210, 9)\n",
      "shape of output testing data: (210,)\n"
     ]
    }
   ],
   "source": [
    "X_train, X_test, Y_train, Y_test = train_test_split(feature_vector, label_vector, test_size = 0.3, random_state = 2020)\n",
    "\n",
    "print(\"shape of input training data:\",X_train.shape)\n",
    "print(\"shape of output training data:\",Y_train.shape)\n",
    "print(\"shape of input testing data:\",X_test.shape)\n",
    "print(\"shape of output testing data:\",Y_test.shape)"
   ]
  },
  {
   "cell_type": "markdown",
   "metadata": {},
   "source": [
    "### Z-score Normalization"
   ]
  },
  {
   "cell_type": "code",
   "execution_count": 25,
   "metadata": {},
   "outputs": [],
   "source": [
    "sc = StandardScaler()\n",
    "X_train_std = sc.fit_transform(X_train)\n",
    "X_test_std = sc.transform(X_test)"
   ]
  },
  {
   "cell_type": "markdown",
   "metadata": {},
   "source": [
    "### Train the model first"
   ]
  },
  {
   "cell_type": "code",
   "execution_count": 26,
   "metadata": {},
   "outputs": [],
   "source": [
    "def sigmoid_function(args):\n",
    "    return (1/(1 + np.exp(-args)))\n",
    "## END"
   ]
  },
  {
   "cell_type": "code",
   "execution_count": 27,
   "metadata": {},
   "outputs": [],
   "source": [
    "def logLiklihood(z, y):\n",
    "    \"\"\"Log-liklihood function (cost function to be minimized in logistic regression classification)\"\"\"\n",
    "    return -1 * np.sum((y * np.log(sigmoid_function(z))) + ((1 - y) * np.log(1 - sigmoid_function(z))))\n",
    "## END"
   ]
  },
  {
   "cell_type": "code",
   "execution_count": 28,
   "metadata": {},
   "outputs": [
    {
     "name": "stdout",
     "output_type": "stream",
     "text": [
      "model_optimize\n"
     ]
    }
   ],
   "source": [
    "def model_optimize(w, b, X, Y):\n",
    "    m = X.shape[0]\n",
    "    #Prediction\n",
    "    final_result = sigmoid_function(np.dot(w, X.T) + b)\n",
    "    # Y_T = Y.T\n",
    "    # cost = (-1/m)*(np.sum((Y_T*np.log(final_result)) + ((1 - Y_T)*(np.log(1 - final_result)))))\n",
    "    cost = (-1/m)*(np.sum((np.asarray(Y.T)*np.log(final_result)) + ((1 - np.asarray(Y.T)*(np.log(1 - final_result))))))\n",
    "    #Gradient calculation\n",
    "    dw = (1/m)*(np.dot(X.T, (final_result - np.asarray(Y.T)).T))\n",
    "    db = (1/m)*(np.sum(final_result - np.asarray(Y.T)))\n",
    "    grads = {\"dw\": dw, \"db\": db}\n",
    "    return grads, cost\n",
    "## END\n",
    "print(\"model_optimize\")"
   ]
  },
  {
   "cell_type": "code",
   "execution_count": 29,
   "metadata": {},
   "outputs": [
    {
     "name": "stdout",
     "output_type": "stream",
     "text": [
      "model_predict\n"
     ]
    }
   ],
   "source": [
    "def model_predict(w, b, X, Y, learning_rate, no_iterations):\n",
    "    costs = []\n",
    "    for i in range(no_iterations):\n",
    "        grads, cost = model_optimize(w, b, X, Y)\n",
    "        dw = grads[\"dw\"]\n",
    "        db = grads[\"db\"]\n",
    "        #weight update\n",
    "        w = w - (learning_rate * (dw.T))\n",
    "        b = b - (learning_rate * db)\n",
    "        if (i % 100 == 0):\n",
    "            costs.append(cost)\n",
    "            print(\"Cost after %i iteration is %f\" %(i, cost))\n",
    "    #final parameters\n",
    "    coeff = {\"w\": w, \"b\": b}\n",
    "    gradient = {\"dw\": dw, \"db\": db}\n",
    "    return coeff, gradient, costs\n",
    "## END\n",
    "print(\"model_predict\")"
   ]
  },
  {
   "cell_type": "code",
   "execution_count": 30,
   "metadata": {},
   "outputs": [
    {
     "name": "stdout",
     "output_type": "stream",
     "text": [
      "weightInitialization\n"
     ]
    }
   ],
   "source": [
    "def weightInitialization(n_features):\n",
    "    w = np.zeros((1, n_features))\n",
    "    b = 0\n",
    "    return w, b\n",
    "## END\n",
    "print(\"weightInitialization\")"
   ]
  },
  {
   "cell_type": "code",
   "execution_count": 31,
   "metadata": {},
   "outputs": [
    {
     "name": "stdout",
     "output_type": "stream",
     "text": [
      "predict\n"
     ]
    }
   ],
   "source": [
    "def predict(final_pred, m):\n",
    "    y_pred = np.zeros((1,m))\n",
    "    for i in range(final_pred.shape[1]):\n",
    "        if final_pred[0][i] > 0.5:\n",
    "            y_pred[0][i] = 1\n",
    "    return y_pred\n",
    "## END\n",
    "print(\"predict\")"
   ]
  },
  {
   "cell_type": "code",
   "execution_count": 32,
   "metadata": {},
   "outputs": [
    {
     "name": "stdout",
     "output_type": "stream",
     "text": [
      "Number of Features 9\n"
     ]
    }
   ],
   "source": [
    "n_features = X_train_std.shape[1]\n",
    "print('Number of Features', n_features)\n",
    "w, b = weightInitialization(n_features)"
   ]
  },
  {
   "cell_type": "code",
   "execution_count": 33,
   "metadata": {},
   "outputs": [
    {
     "name": "stdout",
     "output_type": "stream",
     "text": [
      "Cost after 0 iteration is -1.000000\n",
      "Cost after 100 iteration is -1.571390\n",
      "Cost after 200 iteration is -1.821066\n",
      "Cost after 300 iteration is -1.976312\n",
      "Cost after 400 iteration is -2.086463\n",
      "Cost after 500 iteration is -2.170232\n",
      "Cost after 600 iteration is -2.236726\n",
      "Cost after 700 iteration is -2.291061\n",
      "Cost after 800 iteration is -2.336395\n",
      "Cost after 900 iteration is -2.374819\n",
      "Cost after 1000 iteration is -2.407784\n",
      "Cost after 1100 iteration is -2.436343\n",
      "Cost after 1200 iteration is -2.461281\n",
      "Cost after 1300 iteration is -2.483200\n",
      "Cost after 1400 iteration is -2.502572\n",
      "Cost after 1500 iteration is -2.519774\n",
      "Cost after 1600 iteration is -2.535109\n",
      "Cost after 1700 iteration is -2.548829\n",
      "Cost after 1800 iteration is -2.561143\n",
      "Cost after 1900 iteration is -2.572223\n",
      "Cost after 2000 iteration is -2.582220\n",
      "Cost after 2100 iteration is -2.591258\n",
      "Cost after 2200 iteration is -2.599447\n",
      "Cost after 2300 iteration is -2.606881\n",
      "Cost after 2400 iteration is -2.613641\n",
      "Cost after 2500 iteration is -2.619800\n",
      "Cost after 2600 iteration is -2.625419\n",
      "Cost after 2700 iteration is -2.630555\n",
      "Cost after 2800 iteration is -2.635257\n",
      "Cost after 2900 iteration is -2.639568\n",
      "Cost after 3000 iteration is -2.643527\n",
      "Cost after 3100 iteration is -2.647169\n",
      "Cost after 3200 iteration is -2.650524\n",
      "Cost after 3300 iteration is -2.653622\n",
      "Cost after 3400 iteration is -2.656486\n",
      "Cost after 3500 iteration is -2.659139\n",
      "Cost after 3600 iteration is -2.661602\n",
      "Cost after 3700 iteration is -2.663893\n",
      "Cost after 3800 iteration is -2.666029\n",
      "Cost after 3900 iteration is -2.668024\n",
      "Cost after 4000 iteration is -2.669893\n",
      "Cost after 4100 iteration is -2.671646\n",
      "Cost after 4200 iteration is -2.673297\n",
      "Cost after 4300 iteration is -2.674854\n",
      "Cost after 4400 iteration is -2.676326\n",
      "Cost after 4500 iteration is -2.677723\n",
      "Cost after 4600 iteration is -2.679052\n",
      "Cost after 4700 iteration is -2.680319\n",
      "Cost after 4800 iteration is -2.681530\n",
      "Cost after 4900 iteration is -2.682692\n",
      "Cost after 5000 iteration is -2.683809\n"
     ]
    }
   ],
   "source": [
    "coeff, gradient, costs = model_predict(w, b, X_train_std, Y_train, learning_rate = 0.01, no_iterations = 5001)"
   ]
  },
  {
   "cell_type": "code",
   "execution_count": 34,
   "metadata": {},
   "outputs": [
    {
     "name": "stdout",
     "output_type": "stream",
     "text": [
      "Optimized weights [[0.94887462 0.54407288 0.71067117 0.42633928 0.32278778 1.20356732\n",
      "  0.69247462 0.4263541  0.50740409]]\n",
      "Optimized intercept -0.9738483095350601\n"
     ]
    }
   ],
   "source": [
    "#Final prediction\n",
    "w = coeff[\"w\"]\n",
    "b = coeff[\"b\"]\n",
    "print('Optimized weights', w)\n",
    "print('Optimized intercept', b)"
   ]
  },
  {
   "cell_type": "code",
   "execution_count": 35,
   "metadata": {},
   "outputs": [],
   "source": [
    "final_train_pred = sigmoid_function(np.dot(w, X_train_std.T) + b)\n",
    "final_test_pred = sigmoid_function(np.dot(w, X_test_std.T) + b)"
   ]
  },
  {
   "cell_type": "code",
   "execution_count": 36,
   "metadata": {},
   "outputs": [],
   "source": [
    "m_tr =  X_train_std.shape[0]\n",
    "m_ts =  X_test_std.shape[0]"
   ]
  },
  {
   "cell_type": "code",
   "execution_count": 37,
   "metadata": {},
   "outputs": [
    {
     "name": "stdout",
     "output_type": "stream",
     "text": [
      "Training Accuracy 0.9652351738241309\n"
     ]
    }
   ],
   "source": [
    "y_tr_pred = predict(final_train_pred, m_tr)\n",
    "print('Training Accuracy', accuracy_score(y_tr_pred.T, Y_train))"
   ]
  }
 ],
 "metadata": {
  "kernelspec": {
   "display_name": "Python 3",
   "language": "python",
   "name": "python3"
  },
  "language_info": {
   "codemirror_mode": {
    "name": "ipython",
    "version": 3
   },
   "file_extension": ".py",
   "mimetype": "text/x-python",
   "name": "python",
   "nbconvert_exporter": "python",
   "pygments_lexer": "ipython3",
   "version": "3.8.5"
  }
 },
 "nbformat": 4,
 "nbformat_minor": 4
}
