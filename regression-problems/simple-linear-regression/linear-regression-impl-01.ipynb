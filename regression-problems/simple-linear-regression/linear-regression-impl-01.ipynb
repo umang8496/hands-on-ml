{
 "cells": [
  {
   "cell_type": "code",
   "execution_count": 6,
   "metadata": {},
   "outputs": [],
   "source": [
    "import pandas as pd\n",
    "import numpy as np\n",
    "import matplotlib.pyplot as plt\n",
    "import matplotlib as mat\n",
    "import statsmodels.api as stats"
   ]
  },
  {
   "cell_type": "code",
   "execution_count": 8,
   "metadata": {},
   "outputs": [
    {
     "name": "stdout",
     "output_type": "stream",
     "text": [
      "pandas version: 1.0.5\n",
      "numpy version: 1.18.5\n",
      "matplotlib version: 3.3.0\n",
      "statsmodels version: 0.11.1\n"
     ]
    }
   ],
   "source": [
    "print(\"pandas version:\", pd.__version__)\n",
    "print(\"numpy version:\", np.__version__)\n",
    "print(\"matplotlib version:\", mat.__version__)\n",
    "print(\"statsmodels version:\", stats.__version__)"
   ]
  },
  {
   "cell_type": "code",
   "execution_count": 17,
   "metadata": {},
   "outputs": [
    {
     "name": "stdout",
     "output_type": "stream",
     "text": [
      "               SAT        GPA\n",
      "count    84.000000  84.000000\n",
      "mean   1845.273810   3.330238\n",
      "std     104.530661   0.271617\n",
      "min    1634.000000   2.400000\n",
      "25%    1772.000000   3.190000\n",
      "50%    1846.000000   3.380000\n",
      "75%    1934.000000   3.502500\n",
      "max    2050.000000   3.810000\n"
     ]
    },
    {
     "data": {
      "image/png": "[encoded data removed]",
      "text/plain": [
       "<Figure size 432x288 with 1 Axes>"
      ]
     },
     "metadata": {
      "needs_background": "light"
     },
     "output_type": "display_data"
    },
    {
     "name": "stdout",
     "output_type": "stream",
     "text": [
      "                            OLS Regression Results                            \n",
      "==============================================================================\n",
      "Dep. Variable:                    GPA   R-squared:                       0.406\n",
      "Model:                            OLS   Adj. R-squared:                  0.399\n",
      "Method:                 Least Squares   F-statistic:                     56.05\n",
      "Date:                Thu, 30 Jul 2020   Prob (F-statistic):           7.20e-11\n",
      "Time:                        17:24:10   Log-Likelihood:                 12.672\n",
      "No. Observations:                  84   AIC:                            -21.34\n",
      "Df Residuals:                      82   BIC:                            -16.48\n",
      "Df Model:                           1                                         \n",
      "Covariance Type:            nonrobust                                         \n",
      "==============================================================================\n",
      "                 coef    std err          t      P>|t|      [0.025      0.975]\n",
      "------------------------------------------------------------------------------\n",
      "const          0.2750      0.409      0.673      0.503      -0.538       1.088\n",
      "SAT            0.0017      0.000      7.487      0.000       0.001       0.002\n",
      "==============================================================================\n",
      "Omnibus:                       12.839   Durbin-Watson:                   0.950\n",
      "Prob(Omnibus):                  0.002   Jarque-Bera (JB):               16.155\n",
      "Skew:                          -0.722   Prob(JB):                     0.000310\n",
      "Kurtosis:                       4.590   Cond. No.                     3.29e+04\n",
      "==============================================================================\n",
      "\n",
      "Warnings:\n",
      "[1] Standard Errors assume that the covariance matrix of the errors is correctly specified.\n",
      "[2] The condition number is large, 3.29e+04. This might indicate that there are\n",
      "strong multicollinearity or other numerical problems.\n"
     ]
    },
    {
     "data": {
      "image/png": "[encoded data removed]",
      "text/plain": [
       "<Figure size 432x288 with 1 Axes>"
      ]
     },
     "metadata": {
      "needs_background": "light"
     },
     "output_type": "display_data"
    }
   ],
   "source": [
    "# read the dataset\n",
    "dataset = pd.read_csv(\"simple_linear_regression.csv\")\n",
    "# print(data)\n",
    "# see dataset-description.jpg\n",
    "# print(dataset.describe())\n",
    "\n",
    "Y = dataset[\"GPA\"]\n",
    "X = dataset[\"SAT\"]\n",
    "\n",
    "# see scatter-plot.jpg\n",
    "plt.scatter(X, Y)\n",
    "plt.xlabel('SAT', fontsize = 20)\n",
    "plt.ylabel('GPA', fontsize = 20)\n",
    "# plt.plot(X, Y, color=\"r\")\n",
    "plt.show()\n",
    "\n",
    "# this will craete another column having '1' as the row values\n",
    "x0 = sm.add_constant(X)\n",
    "# print(x0)\n",
    "\n",
    "# ordinary least squares regression\n",
    "results = sm.OLS(Y, x0).fit()\n",
    "\n",
    "# see summay.jpg\n",
    "print(results.summary())\n",
    "# Coefficient = 0.0017\n",
    "# Constant = 0.2750\n",
    "\n",
    "# see scatter-plot-with-regression-line.jpg\n",
    "yhat = (0.0017 * X) + 0.275\n",
    "plt.scatter(X, Y)\n",
    "fig = plt.plot(X, yhat, lw = 4, c = 'orange', label = 'regression line')\n",
    "plt.xlabel('SAT', fontsize = 20)\n",
    "plt.ylabel('GPA', fontsize = 20)\n",
    "plt.show()"
   ]
  }
 ],
 "metadata": {
  "kernelspec": {
   "display_name": "Python 3",
   "language": "python",
   "name": "python3"
  },
  "language_info": {
   "codemirror_mode": {
    "name": "ipython",
    "version": 3
   },
   "file_extension": ".py",
   "mimetype": "text/x-python",
   "name": "python",
   "nbconvert_exporter": "python",
   "pygments_lexer": "ipython3",
   "version": "3.8.5"
  }
 },
 "nbformat": 4,
 "nbformat_minor": 4
}
