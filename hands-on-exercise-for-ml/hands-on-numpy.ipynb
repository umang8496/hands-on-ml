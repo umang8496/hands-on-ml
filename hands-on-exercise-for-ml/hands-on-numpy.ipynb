{
 "cells": [
  {
   "cell_type": "markdown",
   "metadata": {},
   "source": [
    "# Hands-on NumPy library\n",
    "\n",
    "NumPy (Numerical Python) is an open-source Python library that’s used in almost every field of science and engineering.  \n",
    "It’s the universal standard for working with numerical data in Python, and it’s at the core of the scientific Python and PyData ecosystems.\n",
    "\n",
    "The NumPy API is used extensively in Pandas, SciPy, Matplotlib, scikit-learn, scikit-image and most other data science and scientific Python packages.\n",
    "NumPy is a Python library and is written partially in Python, but most of the parts that require fast computation are written in C or C++."
   ]
  },
  {
   "cell_type": "markdown",
   "metadata": {},
   "source": [
    "NumPy’s main object is the homogeneous multidimensional array.  \n",
    "It is a table of elements (usually numbers), all of the same type, indexed by a tuple of non-negative integers.  \n",
    "In NumPy dimensions are called axes.\n",
    "\n",
    "NumPy’s array class is called ndarray. It is also known by the alias array.  \n",
    "Note that numpy.array is not the same as the Standard Python Library class array.array, which only handles one-dimensional arrays and offers less functionality. "
   ]
  },
  {
   "cell_type": "code",
   "execution_count": 1,
   "metadata": {},
   "outputs": [
    {
     "name": "stdout",
     "output_type": "stream",
     "text": [
      "Numpy Version: 1.18.5\n"
     ]
    }
   ],
   "source": [
    "import numpy as np\n",
    "print(\"Numpy Version: {}\".format(np.__version__))"
   ]
  },
  {
   "cell_type": "markdown",
   "metadata": {},
   "source": [
    "# NumPy v/s List\n",
    "\n",
    "NumPy gives us an enormous range of fast and efficient numerically-related options.  \n",
    "While a Python list can contain different data types within a single list, all of the elements in a NumPy array should be homogenous.  \n",
    "The mathematical operations that are meant to be performed on arrays wouldn’t be possible if the arrays weren’t homogenous.\n",
    "\n",
    "NumPy arrays are faster and more compact than Python lists.  \n",
    "An array consumes less memory and is far more convenient to use.  \n",
    "NumPy uses much less memory to store data and it provides a mechanism of specifying the data types, which allows the code to be optimized even further.\n",
    "\n",
    "NumPy arrays are stored at one continuous place in memory unlike lists, so processes can access and manipulate them very efficiently.  \n",
    "This behavior is called locality of reference in computer science.  \n",
    "This is the main reason why NumPy is faster than lists. Also it is optimized to work with latest CPU architectures."
   ]
  },
  {
   "cell_type": "code",
   "execution_count": 2,
   "metadata": {},
   "outputs": [
    {
     "name": "stdout",
     "output_type": "stream",
     "text": [
      "arr: [1 2 3 4 5]\n",
      "arr.shape: (5,)\n",
      "arr.ndim:  1\n",
      "arr.dtype.name:  int32\n",
      "arr.size:  5\n",
      "arr.itemsize:  4\n",
      "type(arr):  <class 'numpy.ndarray'>\n"
     ]
    }
   ],
   "source": [
    "arr = np.array([1, 2, 3, 4, 5])\n",
    "print(\"arr:\", arr)\n",
    "print(\"arr.shape:\", arr.shape)\n",
    "print(\"arr.ndim: \", arr.ndim)\n",
    "print(\"arr.dtype.name: \", arr.dtype.name)\n",
    "print(\"arr.size: \", arr.size)\n",
    "print(\"arr.itemsize: \", arr.itemsize)\n",
    "print(\"type(arr): \", type(arr))"
   ]
  },
  {
   "cell_type": "code",
   "execution_count": 3,
   "metadata": {},
   "outputs": [
    {
     "name": "stdout",
     "output_type": "stream",
     "text": [
      "arr: [[ 0  1  2  3  4]\n",
      " [ 5  6  7  8  9]\n",
      " [10 11 12 13 14]]\n",
      "arr.shape: (3, 5)\n",
      "arr.ndim:  2\n",
      "arr.dtype.name:  int32\n",
      "arr.size:  15\n",
      "arr.itemsize:  4\n",
      "type(arr):  <class 'numpy.ndarray'>\n"
     ]
    }
   ],
   "source": [
    "arr = np.arange(15).reshape(3, 5)\n",
    "print(\"arr:\", arr)\n",
    "print(\"arr.shape:\", arr.shape)\n",
    "print(\"arr.ndim: \", arr.ndim)\n",
    "print(\"arr.dtype.name: \", arr.dtype.name)\n",
    "print(\"arr.size: \", arr.size)\n",
    "print(\"arr.itemsize: \", arr.itemsize)\n",
    "print(\"type(arr): \", type(arr))"
   ]
  },
  {
   "cell_type": "code",
   "execution_count": 4,
   "metadata": {},
   "outputs": [
    {
     "name": "stdout",
     "output_type": "stream",
     "text": [
      "arr_of_zeros:  [[0. 0. 0. 0.]\n",
      " [0. 0. 0. 0.]\n",
      " [0. 0. 0. 0.]]\n",
      "arr_of_zeros:  [[1. 1. 1. 1.]\n",
      " [1. 1. 1. 1.]\n",
      " [1. 1. 1. 1.]]\n"
     ]
    }
   ],
   "source": [
    "arr_of_zeros = np.zeros((3, 4))\n",
    "print(\"arr_of_zeros: \", arr_of_zeros)\n",
    "\n",
    "arr_of_ones = np.ones((3, 4))\n",
    "print(\"arr_of_zeros: \", arr_of_ones)"
   ]
  },
  {
   "cell_type": "markdown",
   "metadata": {},
   "source": [
    "To create sequences of numbers, NumPy provides the arange function which is analogous to the Python built-in range, but returns an array.  \n",
    "When arange() is used with floating points, it is generally not possible to predict the number of elements obtained, due to the finite floating point precision.  \n",
    "For this reason, it is usually better to use the function linspace() that receives as an argument the number of elements that we want, instead of the step"
   ]
  },
  {
   "cell_type": "code",
   "execution_count": 5,
   "metadata": {},
   "outputs": [
    {
     "name": "stdout",
     "output_type": "stream",
     "text": [
      "[10 15 20 25]\n",
      "[0.  0.3 0.6 0.9 1.2 1.5 1.8]\n",
      "[0.   0.25 0.5  0.75 1.   1.25 1.5  1.75 2.  ]\n"
     ]
    }
   ],
   "source": [
    "print(np.arange(10, 30, 5))\n",
    "print(np.arange( 0, 2, 0.3 ))\n",
    "print(np.linspace( 0, 2, 9 ))"
   ]
  },
  {
   "cell_type": "markdown",
   "metadata": {},
   "source": [
    "# NumPy Basic Operations\n",
    "Arithmetic operators on arrays apply elementwise. A new array is created and filled with the result."
   ]
  },
  {
   "cell_type": "code",
   "execution_count": 6,
   "metadata": {},
   "outputs": [
    {
     "name": "stdout",
     "output_type": "stream",
     "text": [
      "a:  [20 30 40 50]\n",
      "b:  [0 1 2 3]\n",
      "a + b:  [20 31 42 53]\n",
      "b**2:  [0 1 4 9]\n",
      "a * b:  [  0  30  80 150]\n",
      "b / a:  [0.         0.03333333 0.05       0.06      ]\n",
      "sin(a):  [ 0.91294525 -0.98803162  0.74511316 -0.26237485]\n"
     ]
    }
   ],
   "source": [
    "a = np.array([20, 30, 40, 50])\n",
    "b = np.arange(4)\n",
    "print(\"a: \", a)\n",
    "print(\"b: \", b)\n",
    "print(\"a + b: \", (a + b))\n",
    "print(\"b**2: \", (b**2))\n",
    "print(\"a * b: \", (a * b))\n",
    "print(\"b / a: \", (b / a))\n",
    "print(\"sin(a): \", np.sin(a))"
   ]
  },
  {
   "cell_type": "markdown",
   "metadata": {},
   "source": [
    "Unlike in many matrix languages, the product operator * operates elementwise in NumPy arrays.  \n",
    "The matrix product can be performed using the @ operator (in python >=3.5) or the dot function or method"
   ]
  },
  {
   "cell_type": "code",
   "execution_count": 7,
   "metadata": {},
   "outputs": [
    {
     "name": "stdout",
     "output_type": "stream",
     "text": [
      "A * B: [[2 0]\n",
      " [0 4]]\n",
      "A @ B: [[5 4]\n",
      " [3 4]]\n",
      "A.dot(B): [[5 4]\n",
      " [3 4]]\n"
     ]
    }
   ],
   "source": [
    "A = np.array( [[1,1], [0,1]] )\n",
    "B = np.array( [[2,0], [3,4]] )\n",
    "\n",
    "print(\"A * B:\", (A * B))\n",
    "print(\"A @ B:\", (A @ B))\n",
    "print(\"A.dot(B):\", (A.dot(B)))"
   ]
  },
  {
   "cell_type": "markdown",
   "metadata": {},
   "source": [
    "'T' operator gives the transpose of the matrix."
   ]
  },
  {
   "cell_type": "code",
   "execution_count": 8,
   "metadata": {},
   "outputs": [
    {
     "name": "stdout",
     "output_type": "stream",
     "text": [
      "2x3 matrix: [[1 2 3]\n",
      " [4 5 6]]\n",
      "3x2 matrix: [[1 4]\n",
      " [2 5]\n",
      " [3 6]]\n"
     ]
    }
   ],
   "source": [
    "matrix_2x3 = np.array([[1, 2, 3], [4, 5, 6]])\n",
    "print(\"2x3 matrix:\", matrix_2x3)\n",
    "\n",
    "matrix_3x2 = matrix_2x3.T\n",
    "print(\"3x2 matrix:\", matrix_3x2)"
   ]
  },
  {
   "cell_type": "markdown",
   "metadata": {},
   "source": [
    "Some operations, such as += and *=, act in place to modify an existing array rather than create a new one.  \n",
    "When operating with arrays of different types, the type of the resulting array corresponds to the more general or precise one.\n",
    "\n",
    "We can access an array element by referring to its index number.  \n",
    "The indexes in NumPy arrays start with 0, meaning that the first element has index 0, and the second has index 1 etc.  \n",
    "We can also use negative indexing to refer to the index values from the end.  \n",
    "\n",
    "Slicing in python means taking elements from one given index to another given index.  \n",
    "We pass slice instead of index like this: [start:end].  \n",
    "We can also define the step, like this: [start:end:step].  \n",
    "If we don't pass start its considered 0  \n",
    "If we don't pass end its considered length of array in that dimension  \n",
    "If we don't pass step its considered 1  "
   ]
  },
  {
   "cell_type": "code",
   "execution_count": 9,
   "metadata": {},
   "outputs": [
    {
     "name": "stdout",
     "output_type": "stream",
     "text": [
      "arr_1[2]:  3\n",
      "arr_2[1, 2]:  8\n",
      "arr_3[0, 1, 2]:  6\n",
      "arr_1[1:5]:  [2 3 4]\n",
      "arr_1[:]:  [1 2 3 4]\n",
      "arr_1[1:]:  [2 3 4]\n",
      "arr_2[1, 1:5]:  [ 7  8  9 10]\n",
      "arr_3[0, 1, 1:]:  [5 6]\n"
     ]
    }
   ],
   "source": [
    "arr_1 = np.array([1, 2, 3, 4])\n",
    "arr_2 = np.array([[1, 2, 3, 4, 5], [6, 7, 8, 9, 10]])\n",
    "arr_3 = np.array([[[1, 2, 3], [4, 5, 6]], [[7, 8, 9], [10, 11, 12]]])\n",
    "\n",
    "print(\"arr_1[2]: \", arr_1[2])\n",
    "print(\"arr_2[1, 2]: \", arr_2[1, 2])\n",
    "print(\"arr_3[0, 1, 2]: \", arr_3[0, 1, 2])\n",
    "\n",
    "print(\"arr_1[1:5]: \", arr_1[1:5])\n",
    "print(\"arr_1[:]: \", arr_1[:])\n",
    "print(\"arr_1[1:]: \", arr_1[1:])\n",
    "\n",
    "print(\"arr_2[1, 1:5]: \", arr_2[1, 1:5])\n",
    "print(\"arr_3[0, 1, 1:]: \", arr_3[0, 1, 1:])"
   ]
  },
  {
   "cell_type": "markdown",
   "metadata": {},
   "source": [
    "# NumPy Copy and View\n",
    "\n",
    "The main difference between a copy and a view of an array is that the copy is a new array, and the view is just a view of the original array.  \n",
    "The copy owns the data and any changes made to the copy will not affect original array, and any changes made to the original array will not affect the copy.  \n",
    "The view does not own the data and any changes made to the view will affect the original array, and vice-versa.\n",
    "\n",
    "Every NumPy array has the attribute base that returns None if the array owns the data.  \n",
    "Otherwise, the base  attribute refers to the original object."
   ]
  },
  {
   "cell_type": "code",
   "execution_count": 10,
   "metadata": {},
   "outputs": [
    {
     "name": "stdout",
     "output_type": "stream",
     "text": [
      "arr:  [42  2  3  4  5]\n",
      "arr_copy:  [1 2 3 4 5]\n",
      "arr_view:  [42  2  3  4  5]\n",
      "arr_copy.base:  None\n",
      "arr_view.base:  [42  2  3  4  5]\n"
     ]
    }
   ],
   "source": [
    "arr = np.array([1, 2, 3, 4, 5])\n",
    "arr_copy = arr.copy()\n",
    "arr_view = arr.view()\n",
    "arr[0] = 42\n",
    "\n",
    "print(\"arr: \", arr)\n",
    "print(\"arr_copy: \", arr_copy)\n",
    "print(\"arr_view: \", arr_view)\n",
    "\n",
    "print(\"arr_copy.base: \", arr_copy.base)\n",
    "print(\"arr_view.base: \", arr_view.base)"
   ]
  },
  {
   "cell_type": "markdown",
   "metadata": {},
   "source": [
    "# NumPy ufuncs  \n",
    "\n",
    "ufuncs stands for \"Universal Functions\" and they are NumPy functions that operates on the ndarray object.  \n",
    "ufuncs are used to implement vectorization in NumPy which is way faster than iterating over elements."
   ]
  },
  {
   "cell_type": "code",
   "execution_count": 11,
   "metadata": {},
   "outputs": [
    {
     "name": "stdout",
     "output_type": "stream",
     "text": [
      "x:  [ 1  4  9 16 25]\n",
      "y:  [  1   8  27  64 125]\n",
      "add():  [  2  12  36  80 150]\n",
      "subtract():  [  0   4  18  48 100]\n",
      "multiply():  [   1   32  243 1024 3125]\n",
      "divide():  [1. 2. 3. 4. 5.]\n",
      "power():  [ 1  4  9 16 25]\n",
      "absolute():  [1 2 3 4 5]\n",
      "exp():  [2.71828183e+00 5.45981500e+01 8.10308393e+03 8.88611052e+06\n",
      " 7.20048993e+10]\n",
      "sqrt():  [1. 2. 3. 4. 5.]\n",
      "trunc():  [-3.  3.]\n",
      "around():  3.17\n",
      "floor():  [-4.  3.]\n",
      "ceil():  [-3.  4.]\n"
     ]
    }
   ],
   "source": [
    "# x = [1, 4, 9, 16, 25]\n",
    "x = np.arange(1, 6)**2\n",
    "\n",
    "# y = [1, 8, 27, 64, 125]\n",
    "y = np.arange(1, 6)**3\n",
    "print(\"x: \", x)\n",
    "print(\"y: \", y)\n",
    "\n",
    "print(\"add(): \", np.add(x, y))\n",
    "print(\"subtract(): \", np.subtract(y, x))\n",
    "print(\"multiply(): \", np.multiply(x, y))\n",
    "print(\"divide(): \", np.divide(y, x))\n",
    "print(\"power(): \", np.power([1, 2, 3, 4, 5], 2))\n",
    "print(\"absolute(): \", np.absolute([1, -2, -3, -4, -5]))\n",
    "print(\"exp(): \", np.exp(x))\n",
    "print(\"sqrt(): \", np.sqrt(x))\n",
    "\n",
    "# Remove the decimals, and return the float number closest to zero.\n",
    "print(\"trunc(): \", np.trunc([-3.123, 3.123]))\n",
    "# The around() function increments preceding digit or decimal by 1 if >=5 else do nothing.\n",
    "print(\"around(): \", np.around(3.1666, 2))\n",
    "# The floor() function rounds off decimal to nearest lower integer.\n",
    "print(\"floor(): \", np.floor([-3.1666, 3.6667]))\n",
    "# The ceil() function rounds off decimal to nearest upper integer.\n",
    "print(\"ceil(): \", np.ceil([-3.1666, 3.6667]))"
   ]
  },
  {
   "cell_type": "markdown",
   "metadata": {},
   "source": [
    "# NumPy Logs\n",
    "NumPy provides functions to perform log at the base 2, e and 10.  \n",
    "NumPy does not provide any function to take log at any base, so we can use the frompyfunc() function along with inbuilt function math.log() with two input parameters and one output parameter"
   ]
  },
  {
   "cell_type": "code",
   "execution_count": 12,
   "metadata": {},
   "outputs": [
    {
     "name": "stdout",
     "output_type": "stream",
     "text": [
      "[0.         2.         3.169925   4.         4.64385619]\n",
      "[0.         1.38629436 2.19722458 2.77258872 3.21887582]\n",
      "[0.         0.60205999 0.95424251 1.20411998 1.39794001]\n",
      "log 100 base 10:  2.0\n"
     ]
    }
   ],
   "source": [
    "arr = np.array([1, 2, 3, 4, 5])**2\n",
    "print(np.log2(arr))\n",
    "print(np.log(arr))\n",
    "print(np.log10(arr))\n",
    "\n",
    "from math import log\n",
    "nplog = np.frompyfunc(log, 2, 1)\n",
    "print(\"log 100 base 10: \", nplog(100, 10))"
   ]
  },
  {
   "cell_type": "markdown",
   "metadata": {},
   "source": [
    "# NumPy Arithmetic Functions"
   ]
  },
  {
   "cell_type": "code",
   "execution_count": 13,
   "metadata": {},
   "outputs": [
    {
     "name": "stdout",
     "output_type": "stream",
     "text": [
      "np.sum():  21\n",
      "np.sum(axis=1):  [ 6 15]\n",
      "np.cumsum():  [ 1  3  6 10 15 21]\n",
      "np.cumsum(axis=1):  [[ 1  3  6]\n",
      " [ 4  9 15]]\n",
      "np.prod():  720\n",
      "np.prod(axis=1):  [  6 120]\n",
      "np.cumprod():  [  1   2   6  24 120 720]\n",
      "np.cumprod(axis=1):  [[  1   2   6]\n",
      " [  4  20 120]]\n"
     ]
    }
   ],
   "source": [
    "arr1 = np.array([1, 2, 3])\n",
    "arr2 = np.array([4, 5, 6])\n",
    "\n",
    "print(\"np.sum(): \", np.sum([arr1, arr2]))\n",
    "print(\"np.sum(axis=1): \", np.sum([arr1, arr2], axis=1))\n",
    "print(\"np.cumsum(): \", np.cumsum([arr1, arr2]))\n",
    "print(\"np.cumsum(axis=1): \", np.cumsum([arr1, arr2], axis=1))\n",
    "\n",
    "print(\"np.prod(): \", np.prod([arr1, arr2]))\n",
    "print(\"np.prod(axis=1): \", np.prod([arr1, arr2], axis=1))\n",
    "print(\"np.cumprod(): \", np.cumprod([arr1, arr2]))\n",
    "print(\"np.cumprod(axis=1): \", np.cumprod([arr1, arr2], axis=1))"
   ]
  },
  {
   "cell_type": "markdown",
   "metadata": {},
   "source": [
    "# NumPy Trigonometric Functions\n",
    "NumPy provides the ufuncs sin(), cos() and tan() that take values in radians and produce the corresponding sin, cos and tan values.  \n",
    "NumPy provides ufuncs arcsin(), arccos() and arctan() that produce radian values for corresponding sin, cos and tan values given."
   ]
  },
  {
   "cell_type": "code",
   "execution_count": 14,
   "metadata": {},
   "outputs": [
    {
     "name": "stdout",
     "output_type": "stream",
     "text": [
      "[1.         0.8660254  0.70710678 0.58778525]\n",
      "[1.         0.8660254  0.70710678 0.58778525]\n",
      "np.arcsin(1.0):  1.5707963267948966\n",
      "np.arccos(1.0):  0.0\n",
      "np.arctan(1.0):  0.7853981633974483\n"
     ]
    }
   ],
   "source": [
    "# Note 2Pi = 360 deg\n",
    "arr = np.array([np.pi/2, np.pi/3, np.pi/4, np.pi/5])\n",
    "x = np.sin(arr)\n",
    "print(x)\n",
    "\n",
    "arr = np.array([90, 60, 45, 36])\n",
    "x = np.sin(np.deg2rad(arr))\n",
    "print(x)\n",
    "\n",
    "print(\"np.arcsin(1.0): \", np.arcsin(1.0))\n",
    "print(\"np.arccos(1.0): \", np.arccos(1.0))\n",
    "print(\"np.arctan(1.0): \", np.arctan(1.0))"
   ]
  },
  {
   "cell_type": "markdown",
   "metadata": {},
   "source": [
    "# NumPy Statistical Functions"
   ]
  },
  {
   "cell_type": "code",
   "execution_count": 140,
   "metadata": {},
   "outputs": [
    {
     "name": "stdout",
     "output_type": "stream",
     "text": [
      "Mean speed:  89.76923076923077\n",
      "Median speed:  87.0\n",
      "Mode speed:  ModeResult(mode=array([86]), count=array([3]))\n",
      "Standard Deviation speed:  9.258292301032677\n",
      "Variance speed:  85.71597633136093\n",
      "75-percentile speed:  94.0\n"
     ]
    }
   ],
   "source": [
    "from scipy import stats\n",
    "speed = [99, 86, 87, 88, 111, 86, 103, 87, 94, 78, 77, 85, 86]\n",
    "print(\"Mean speed: \", np.mean(speed))\n",
    "print(\"Median speed: \", np.median(speed))\n",
    "print(\"Mode speed: \", stats.mode(speed))\n",
    "print(\"Standard Deviation speed: \", np.std(speed))\n",
    "print(\"Variance speed: \", np.var(speed))\n",
    "\n",
    "# 75 percent of the speed is 94.0 or lesser\n",
    "print(\"75-percentile speed: \", np.percentile(speed, 75))"
   ]
  },
  {
   "cell_type": "code",
   "execution_count": 15,
   "metadata": {},
   "outputs": [
    {
     "name": "stdout",
     "output_type": "stream",
     "text": [
      "Mean:  3.000968957422496\n"
     ]
    },
    {
     "data": {
      "image/png": "[encoded data removed]",
      "text/plain": [
       "<Figure size 432x288 with 1 Axes>"
      ]
     },
     "metadata": {
      "needs_background": "light"
     },
     "output_type": "display_data"
    },
    {
     "name": "stdout",
     "output_type": "stream",
     "text": [
      "Mean:  4.998558043290062\n"
     ]
    },
    {
     "data": {
      "image/png": "[encoded data removed]",
      "text/plain": [
       "<Figure size 432x288 with 1 Axes>"
      ]
     },
     "metadata": {
      "needs_background": "light"
     },
     "output_type": "display_data"
    }
   ],
   "source": [
    "import matplotlib.pyplot as plt\n",
    "\n",
    "arr = np.random.uniform(5.0, 1.0, 100000)\n",
    "print(\"Mean: \", np.mean(arr))\n",
    "plt.hist(arr, 100)\n",
    "plt.show()\n",
    "\n",
    "arr = np.random.normal(5.0, 1.0, 100000)\n",
    "print(\"Mean: \", np.mean(arr))\n",
    "plt.hist(arr, 100)\n",
    "plt.show()"
   ]
  },
  {
   "cell_type": "markdown",
   "metadata": {},
   "source": [
    "# NumPy Join Arrays"
   ]
  },
  {
   "cell_type": "code",
   "execution_count": 16,
   "metadata": {},
   "outputs": [
    {
     "name": "stdout",
     "output_type": "stream",
     "text": [
      "[1 2 3 4 5 6]\n",
      "[[1 4]\n",
      " [2 5]\n",
      " [3 6]]\n",
      "[1 2 3 4 5 6]\n",
      "[[1 2 3]\n",
      " [4 5 6]]\n",
      "[[[1 4]\n",
      "  [2 5]\n",
      "  [3 6]]]\n"
     ]
    }
   ],
   "source": [
    "arr1 = np.array([1, 2, 3])\n",
    "arr2 = np.array([4, 5, 6])\n",
    "\n",
    "arr_join_1 = np.concatenate((arr1, arr2))\n",
    "print(arr_join_1)\n",
    "\n",
    "arr_stack = np.stack((arr1, arr2), axis=1)\n",
    "print(arr_stack)\n",
    "\n",
    "arr_hstack = np.hstack((arr1, arr2))\n",
    "print(arr_hstack)\n",
    "\n",
    "arr_vstack = np.vstack((arr1, arr2))\n",
    "print(arr_vstack)\n",
    "\n",
    "arr_dstack = np.dstack((arr1, arr2))\n",
    "print(arr_dstack)"
   ]
  },
  {
   "cell_type": "markdown",
   "metadata": {},
   "source": [
    "# NumPy Search Arrays\n",
    "\n",
    "searchsorted() performs a binary search in the array, and returns the index where the specified value would be inserted to maintain the search order."
   ]
  },
  {
   "cell_type": "code",
   "execution_count": 17,
   "metadata": {},
   "outputs": [
    {
     "name": "stdout",
     "output_type": "stream",
     "text": [
      "(array([3, 5, 6], dtype=int64),)\n",
      "(array([1, 3, 5, 6], dtype=int64),)\n",
      "7\n",
      "['apple' 'banana' 'cherry']\n",
      "[False  True  True]\n",
      "[7 8 9]\n"
     ]
    }
   ],
   "source": [
    "arr = np.array([1, 2, 3, 4, 5, 4, 4])\n",
    "\n",
    "print(np.where(arr == 4))\n",
    "print(np.where(arr%2 == 0))\n",
    "print(np.searchsorted(arr, 7))\n",
    "\n",
    "print(np.sort(np.array(['banana', 'cherry', 'apple'])))\n",
    "print(np.sort(np.array([True, False, True])))\n",
    "print(np.sort(np.array([9, 8, 7])))"
   ]
  },
  {
   "cell_type": "markdown",
   "metadata": {},
   "source": [
    "# NumPy Randim Numbers"
   ]
  },
  {
   "cell_type": "code",
   "execution_count": 18,
   "metadata": {},
   "outputs": [
    {
     "name": "stdout",
     "output_type": "stream",
     "text": [
      "0.21422003200262307\n",
      "[ 0 97 24 46 59]\n",
      "63\n",
      "[[55  9 29 62 47]\n",
      " [14 58 55 94 21]\n",
      " [34 25 69 42 60]]\n",
      "[0.51644716 0.17827723 0.28433118 0.83466545 0.51129491]\n",
      "3\n"
     ]
    }
   ],
   "source": [
    "print(np.random.rand())\n",
    "print(np.random.randint(100, size=(5)))\n",
    "print(np.random.randint(100))\n",
    "print(np.random.randint(100, size=(3, 5)))\n",
    "print(np.random.rand(5))\n",
    "\n",
    "# The choice() method allows you to generate a random value based on an array of values.\n",
    "print(np.random.choice([3, 5, 7, 9]))"
   ]
  },
  {
   "cell_type": "markdown",
   "metadata": {},
   "source": [
    "# https://numpy.org/devdocs/reference/index.html#reference"
   ]
  }
 ],
 "metadata": {
  "kernelspec": {
   "display_name": "Python 3",
   "language": "python",
   "name": "python3"
  },
  "language_info": {
   "codemirror_mode": {
    "name": "ipython",
    "version": 3
   },
   "file_extension": ".py",
   "mimetype": "text/x-python",
   "name": "python",
   "nbconvert_exporter": "python",
   "pygments_lexer": "ipython3",
   "version": "3.8.5"
  }
 },
 "nbformat": 4,
 "nbformat_minor": 4
}
