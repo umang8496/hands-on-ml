{
 "cells": [
  {
   "cell_type": "code",
   "execution_count": 1,
   "metadata": {},
   "outputs": [],
   "source": [
    "import pandas as pd\n",
    "import numpy as np\n",
    "import tensorflow as tf\n",
    "from matplotlib import pyplot as plt"
   ]
  },
  {
   "cell_type": "code",
   "execution_count": 2,
   "metadata": {},
   "outputs": [
    {
     "name": "stdout",
     "output_type": "stream",
     "text": [
      "1.0.5\n",
      "1.18.5\n",
      "2.3.0\n"
     ]
    }
   ],
   "source": [
    "print(pd.__version__)\n",
    "print(np.__version__)\n",
    "print(tf.__version__)"
   ]
  },
  {
   "cell_type": "code",
   "execution_count": 3,
   "metadata": {},
   "outputs": [
    {
     "name": "stdout",
     "output_type": "stream",
     "text": [
      "0.7310585786300049\n",
      "0.5\n",
      "1.0\n"
     ]
    }
   ],
   "source": [
    "def sigmoid_function(args):\n",
    "    return (1/(1 + np.exp(-args)))\n",
    "## END\n",
    "\n",
    "def log_function(n):\n",
    "    return np.log(n)\n",
    "## END\n",
    "\n",
    "print(sigmoid_function(1))\n",
    "print(sigmoid_function(0))\n",
    "print(log_function(np.exp(1)))"
   ]
  },
  {
   "cell_type": "code",
   "execution_count": 4,
   "metadata": {},
   "outputs": [
    {
     "data": {
      "image/png": "[encoded data removed]",
      "text/plain": [
       "<Figure size 432x288 with 1 Axes>"
      ]
     },
     "metadata": {
      "needs_background": "light"
     },
     "output_type": "display_data"
    }
   ],
   "source": [
    "X_log = [i for i in np.arange(0.3, 3.0, 0.3)]\n",
    "Y_log = log_function(X_log)\n",
    "\n",
    "X_0 = [0 for i in np.arange(0,10,0.5)]\n",
    "Y_0 = [0 for i in np.arange(0,10,0.5)]\n",
    "\n",
    "X_axis = [i for i in np.arange(-5.0,5,0.5)]\n",
    "Y_axis = [i for i in np.arange(-5.0,5,0.5)]\n",
    "\n",
    "plt.plot(X_log, Y_log, color = \"red\")\n",
    "plt.plot(X_0, Y_axis, color = \"black\")\n",
    "plt.plot(X_axis, Y_0, color = \"black\")\n",
    "plt.show()"
   ]
  },
  {
   "cell_type": "code",
   "execution_count": 5,
   "metadata": {},
   "outputs": [
    {
     "data": {
      "image/png": "[encoded data removed]",
      "text/plain": [
       "<Figure size 432x288 with 1 Axes>"
      ]
     },
     "metadata": {
      "needs_background": "light"
     },
     "output_type": "display_data"
    }
   ],
   "source": [
    "X_sigmoid = [i for i in np.arange(-5.0, 5.0, 0.5)]\n",
    "Y_sigmoid = [sigmoid_function(i) for i in X_sigmoid ]\n",
    "\n",
    "plt.plot(X_sigmoid, Y_sigmoid, color = \"blue\")\n",
    "plt.show()"
   ]
  }
 ],
 "metadata": {
  "kernelspec": {
   "display_name": "Python 3",
   "language": "python",
   "name": "python3"
  },
  "language_info": {
   "codemirror_mode": {
    "name": "ipython",
    "version": 3
   },
   "file_extension": ".py",
   "mimetype": "text/x-python",
   "name": "python",
   "nbconvert_exporter": "python",
   "pygments_lexer": "ipython3",
   "version": "3.8.5"
  }
 },
 "nbformat": 4,
 "nbformat_minor": 4
}
